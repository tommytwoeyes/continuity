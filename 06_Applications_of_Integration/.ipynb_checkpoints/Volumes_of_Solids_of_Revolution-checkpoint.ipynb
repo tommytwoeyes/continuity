{
 "cells": [
  {
   "cell_type": "markdown",
   "metadata": {},
   "source": [
    "# Volumes of Solids of Revolution\n",
    "\n",
    "By defining a region bounded by a curve (or multiple curves), a line (or lines, including the $x$-axis or $y$-axis), then rotating the region around a line (vertical, horizontal, diagonal, etc.), you can form a 3D object.\n",
    "\n",
    "### Animated Example\n",
    "* __Solid rotated around $y$-axis:__ https://www.desmos.com/calculator/8qdpedyypl\n",
    "* __Solid rotated around $x$-axis:__ https://www.desmos.com/calculator/dg8x58cvnz"
   ]
  },
  {
   "cell_type": "code",
   "execution_count": null,
   "metadata": {
    "collapsed": true
   },
   "outputs": [],
   "source": []
  }
 ],
 "metadata": {
  "kernelspec": {
   "display_name": "Python 2",
   "language": "python",
   "name": "python2"
  },
  "language_info": {
   "codemirror_mode": {
    "name": "ipython",
    "version": 2
   },
   "file_extension": ".py",
   "mimetype": "text/x-python",
   "name": "python",
   "nbconvert_exporter": "python",
   "pygments_lexer": "ipython2",
   "version": "2.7.10"
  }
 },
 "nbformat": 4,
 "nbformat_minor": 0
}
