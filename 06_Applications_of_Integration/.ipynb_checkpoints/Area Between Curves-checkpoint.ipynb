{
 "cells": [
  {
   "cell_type": "markdown",
   "metadata": {},
   "source": [
    "# Finding Area of Regions Between Curves\n",
    "\n",
    "Similar to how you can use integration to find areas of regions under curves (i.e. definite integrals), you can also use properties of integrals to find areas of regions between two or more curves.\n",
    "\n",
    "By subtracting the area between the $x$-axis, the limits of integration, and the lesser (i.e. bottom) curve from the area between the same bounds and the greater (upper) curve, you will find the precise region between the curves.\n",
    "\n",
    "---\n",
    "\n",
    "## Area Between Curves\n",
    "\n",
    "$$A = \\int_{a^b}[f(x)-g(x)]dx$$"
   ]
  },
  {
   "cell_type": "code",
   "execution_count": null,
   "metadata": {
    "collapsed": true
   },
   "outputs": [],
   "source": []
  }
 ],
 "metadata": {
  "kernelspec": {
   "display_name": "Python 2",
   "language": "python",
   "name": "python2"
  },
  "language_info": {
   "codemirror_mode": {
    "name": "ipython",
    "version": 2
   },
   "file_extension": ".py",
   "mimetype": "text/x-python",
   "name": "python",
   "nbconvert_exporter": "python",
   "pygments_lexer": "ipython2",
   "version": "2.7.10"
  }
 },
 "nbformat": 4,
 "nbformat_minor": 0
}
