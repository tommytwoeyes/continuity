{
 "cells": [
  {
   "cell_type": "markdown",
   "metadata": {},
   "source": [
    "# The __p__-Test for Improper Integrals\n",
    "\n",
    "The __p__-test for improper integrals _with a problem spot at $\\infty$_ is virtually the same as the __p__-test for non-negative infinite series.\n",
    "\n",
    "<table>\n",
    "<tr>\n",
    "    <td style=\"vertical-align: middle;\">$$\\int_{1}^{\\infty} \\frac{1}{x^p} dx$$</td>\n",
    "    <td>\n",
    "        <blockquote>\n",
    "            $p > 1$ <strong>Converges</strong><br/>\n",
    "            $p \\le 1$ <strong>Diverges</strong>\n",
    "        </blockquote>\n",
    "    </td>\n",
    "</tr>\n",
    "</table>"
   ]
  },
  {
   "cell_type": "code",
   "execution_count": null,
   "metadata": {
    "collapsed": true
   },
   "outputs": [],
   "source": [
    "import sympy as sp\n",
    "import matplotlib.pyplot as plt\n",
    "%matplotlib inline\n",
    "\n"
   ]
  }
 ],
 "metadata": {
  "kernelspec": {
   "display_name": "Python 2",
   "language": "python",
   "name": "python2"
  },
  "language_info": {
   "codemirror_mode": {
    "name": "ipython",
    "version": 2
   },
   "file_extension": ".py",
   "mimetype": "text/x-python",
   "name": "python",
   "nbconvert_exporter": "python",
   "pygments_lexer": "ipython2",
   "version": "2.7.10"
  }
 },
 "nbformat": 4,
 "nbformat_minor": 0
}
