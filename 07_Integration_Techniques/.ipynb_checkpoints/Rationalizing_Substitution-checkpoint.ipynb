{
 "cells": [
  {
   "cell_type": "markdown",
   "metadata": {},
   "source": [
    "# Rationalizing Substitution\n",
    "\n",
    "<p class='lead'>A __rationalizing substitution__ is a substitution that you make in order to turn an integrand into a _rational function._</p>\n",
    "\n",
    "<p>Once you have a rational funtion, you can use __Integration by Partial Fraction Decomposition__ to integrate the function.</p>\n",
    "\n",
    "<p>This technique wasn't taught in Calculus II (MAC2312 in Florida),  but it can be helpful.</p>\n",
    "\n",
    "\n",
    "## When to Use Rationalizing Substitutions\n",
    "\n",
    "Whenever you see that your integrand would essentially be a rational function, if not for the presence of square roots, cube roots, or _n_-roots, you might want to try this technique.\n",
    "\n",
    "But __try [U-Substitution](./Substitution_Rule.ipynb) first.__\n",
    "\n",
    "If there is an $x^2$ term under a square root (e.g. $sqrt{4-x^2}$), you should try using a [__Trigonometric Substitution__](./Trigonometric_Substitution.ipynb) to integrate it first, if appropriate.\n",
    "\n",
    "\n",
    "## How to Perform Rationalizing Substitutions\n",
    "\n",
    "1. Let $u$ be equal to the entire _n_th root term. Then, raise both sides by the _n_th power, so that there are no roots left.\n",
    "\n",
    "2. __Implicitly differentiate__ both sides with respect to $x$ (or $t$, or whatever your variable is).\n",
    "\n",
    "3. Using algebra, isolate the $dx$ term and substitute.\n",
    "\n",
    "## Example\n",
    "\n",
    "For example, if you are given the following:\n",
    "\n",
    "$$\\int \\frac{x^3}{\\sqrt[3]{x^2+1}} dx$$\n",
    "\n",
    "You cannot use __[Trigonometric Substitution](./Trigonometric_Substitution.ipynb),__ because the root is a cube root; not a square root.\n",
    "\n",
    "Consequently, you make a rationalizing substitution, by letting $u = \\sqrt[3]{x^2+1}$\n",
    "\n",
    "$$\\implies u^3 = x^2+1$$\n",
    "\n",
    "Now, __implicitly differentiate__ both sides with respect to $x$:\n",
    "\n",
    "$$\\implies 3u^2\\frac{du}{dx} = 2x$$\n",
    "\n",
    "$$\\implies dx = \\frac{3u^2}{2x}du$$\n",
    "\n",
    "Substituting, you get:\n",
    "\n",
    "$$= \\int \\frac{x^3}{u}\\frac{3u^2}{2x}du$$\n",
    "\n",
    "$$= \\frac{3}{2}\\int x^2u du$$\n",
    "\n",
    "$$= \\frac{3}{2} \\int u^4 - u du$$\n",
    "\n",
    "$$= \\frac{3}{2} \\left( \\frac{u^5}{5} - \\frac{u^2}{2} \\right) + C$$\n",
    "\n",
    "$$= \\frac{3u^5}{10} - \\frac{3}{4}u^2 + C$$"
   ]
  },
  {
   "cell_type": "code",
   "execution_count": null,
   "metadata": {
    "collapsed": true
   },
   "outputs": [],
   "source": []
  }
 ],
 "metadata": {
  "kernelspec": {
   "display_name": "Python 2",
   "language": "python",
   "name": "python2"
  },
  "language_info": {
   "codemirror_mode": {
    "name": "ipython",
    "version": 2
   },
   "file_extension": ".py",
   "mimetype": "text/x-python",
   "name": "python",
   "nbconvert_exporter": "python",
   "pygments_lexer": "ipython2",
   "version": "2.7.10"
  }
 },
 "nbformat": 4,
 "nbformat_minor": 0
}
