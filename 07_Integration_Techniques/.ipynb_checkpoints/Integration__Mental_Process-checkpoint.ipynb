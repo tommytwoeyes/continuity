{
 "cells": [
  {
   "cell_type": "markdown",
   "metadata": {},
   "source": [
    "# Cognitive Process for Integration\n",
    "\n",
    "<p class='lead'>The following are the concepts, rules, and technicalities you must consider as you approach each new integral.</p>\n",
    "\n",
    "<p>To hone your integration skills sufficiently for upper-level academic work and professional work, you must practice these skills until they are indelibly inscribed in your brain.</p>\n",
    "\n",
    "<p>There is no other way to achieve the requisite degree of skill with integration but to practice incessantly. However, if you consistently practice for just an hour or two <em>every day,</em> the process will seem more like a series of short jogs than a grueling marathon.</p>\n",
    "\n",
    "___\n",
    "\n",
    "## Pre-Integration Considerations\n",
    "\n",
    "Before you even pick up your pen(cil) to work on an integral, think about these important considerations:\n",
    "\n",
    "1. __Is the integral proper?__ Are there any singularities within the interval of integration? Is the interval of integration finite?\n",
    "2. __Is the lower limit of integration greater than the upper limit?__ \n",
    "   If so, then you must reverse them and __remember to throw a negative sign out front.__\n",
    "$$\\int_2^1 f(x) dx = -\\int_1^2 f(x) dx$$\n",
    "3. __Is the integrand an odd function which \"straddles\" the Y-axis?__ If so, then the area between the curve and the X-axis on one side of the Y-axis cancels the area between the curve and the X-axis on the other side.\n",
    "$$\\int_{-a}^{a} f(x) dx = 0$$\n",
    "4. __Is the integrand an even function which \"straddles\" the Y-axis?__ If so, is it possible that you only need to integrate half of the interval defined by the limits of integration?\n",
    "    * If it is the case that the integrand is an even function, and you only need to integrate over half the interval, __be sure to multiply the integral by 2.__\n",
    "$$\\int_{-a}^{a} f(x) dx = 2\\int_{0}^{a} f(x) dx$$\n",
    "5. __Which integration technique will work best with it?__ What type of function is the integrand? \n",
    "\n",
    "___\n",
    "\n",
    "## Overarching Strategy\n",
    "\n",
    "According to the author of the (awesome) CalculusFTW app, __there are essentially $3$ integration techniques:__\n",
    "\n",
    "1. __Change the way the integrand looks__\n",
    "   This includes _using algebra, partial fraction decomposition, and trigonometric identities._\n",
    "\n",
    "2. __Substitution__\n",
    "   This includes the _substitution rule (i.e. U-Substitution), rationalizing substitutions, and inverse substitutions like trigonometric substitutions._\n",
    "   \n",
    "3. __Integration by Parts__"
   ]
  },
  {
   "cell_type": "code",
   "execution_count": null,
   "metadata": {
    "collapsed": true
   },
   "outputs": [],
   "source": []
  }
 ],
 "metadata": {
  "kernelspec": {
   "display_name": "Python 2",
   "language": "python",
   "name": "python2"
  },
  "language_info": {
   "codemirror_mode": {
    "name": "ipython",
    "version": 2
   },
   "file_extension": ".py",
   "mimetype": "text/x-python",
   "name": "python",
   "nbconvert_exporter": "python",
   "pygments_lexer": "ipython2",
   "version": "2.7.10"
  }
 },
 "nbformat": 4,
 "nbformat_minor": 0
}
