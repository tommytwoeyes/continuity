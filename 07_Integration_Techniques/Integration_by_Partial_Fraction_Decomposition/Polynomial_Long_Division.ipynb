{
 "cells": [
  {
   "cell_type": "markdown",
   "metadata": {},
   "source": [
    "# Polynomial Long Division\n",
    "\n",
    "<p class='lead'>\n",
    "Polynomial Long Division follows essentially the same rules as long division of natural numbers.\n",
    "</p>\n",
    "\n",
    "The differences, of course, arise from the fact that variables are involved when dividing polynomials using long division."
   ]
  },
  {
   "cell_type": "code",
   "execution_count": null,
   "metadata": {
    "collapsed": true
   },
   "outputs": [],
   "source": []
  }
 ],
 "metadata": {
  "kernelspec": {
   "display_name": "Python 2",
   "language": "python",
   "name": "python2"
  },
  "language_info": {
   "codemirror_mode": {
    "name": "ipython",
    "version": 2
   },
   "file_extension": ".py",
   "mimetype": "text/x-python",
   "name": "python",
   "nbconvert_exporter": "python",
   "pygments_lexer": "ipython2",
   "version": "2.7.10"
  }
 },
 "nbformat": 4,
 "nbformat_minor": 0
}
