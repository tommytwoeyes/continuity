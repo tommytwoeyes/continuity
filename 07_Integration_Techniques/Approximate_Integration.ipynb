{
 "cells": [
  {
   "cell_type": "markdown",
   "metadata": {},
   "source": [
    "# Approximate Integration\n",
    "\n",
    "In some cases, it is impossible to find the exact value of a definite integral. In fact, the majority of functions in the real world have closed-form antiderivatives&mdash;that is, very few functions in the real world are composed of combinations of function families we have studied&mdash;algebraic functions, trigonometric functions, exponential functions, etc.\n",
    "\n",
    "#### Examples\n",
    "These functions cannot be integrated using the techniques of integration we've learned:\n",
    "$$\\int_{0}^{1} e^{x^2} dx \\quad \\int \\sqrt{1 + x^2} dx$$\n",
    "\n",
    "In these cases, you can approimate the value using techniques of __Approximate Integration.__\n",
    "\n",
    "## Error Analysis\n",
    "\n",
    "Whenever you're using an approximation technique, the issue of accuracy of the approximation arises&mdash;_how accurate is the result?_\n",
    "\n",
    "Each approximation method (i.e. rule) below has a formula for error analysis which has been developed. It's critical to know these error calculation formulas, as well as the various methods for approximation.\n",
    "\n",
    "The __error is the difference between the approximation and the actual value of the definite integral $\\int_{a}^{b} f(x) dx$.__\n",
    "\n",
    "___\n",
    "\n",
    "## MidPoint Rule\n",
    "When ${x_i}^*$ is chosen to be the midpoint $\\overline{x}_i$ of the the sub-interval $[x_{i-1}, x_i]$, you have the __Midpoint Approximation__ $M_n$. Typically, a Midpoint Approximation $M_n$ is better than a Left Endpoint Approximation $L_n$ or a Right Endpoint Approximation $R_n$.\n",
    "\n",
    "$$\\int_{a}^{b} f(x) dx \\approx M_n = \\Delta x\\left[ f(\\overline{x}_1) + f(\\overline{x}_2) + \\cdots + f(\\overline{x}_n) \\right]$$\n",
    "\n",
    "$$\\text{where} \\space \\Delta x = \\frac{b-a}{n}$$\n",
    "\n",
    "$$\\text{and} \\space \\overline{x}_i = \\frac{1}{2}(x_{i-1} + x_i) = \\text{midpoint of} \\space [x_{i-1}, x_i]$$\n",
    "\n",
    "## Trapezoidal Rule\n",
    "\n",
    "Suppose $f$ is defined and _integrable_ on $[a,b]$. The __Trapezoidal Rule approximation__ to $\\int_{a}^{b} f(x) dx$ using $n$ equally spaced sub-intervals on $[a,b]$ is:\n",
    "\n",
    "#### Trapezoidal Rule for Approximate Integration\n",
    "$$T(n) =  \\Delta x \\left( \\frac{1}{2}f(x_0) + \\sum_{k=1}^{n-1} f(x_k) + \\frac{1}{2}f(x_n) \\right)$$\n",
    "\n",
    "$$\\text{where} \\space \\Delta x = \\frac{b-a}{n}, \\space \\text{and} \\space x_k = a + k\\Delta x \\space \\text{for} \\space k = 0, 1, 2, \\ldots , n$$\n",
    "\n",
    "## Error Bounds\n",
    "\n",
    "## Simpson's Rule\n",
    "Simpson's rule for approximate integration uses __parabolas, rather than straight line segments to approximate curve segments.__\n",
    "\n",
    "Simpson's rule is a _much better approximation_ than any of Riemann's methods (left, right or mid points), and better than the Trapezoidal method.\n",
    "\n",
    "As before, we partition the interval $[a, b]$ into $n$ subintervals of equal length $\\Delta x = \\frac{(b - a)}{n}$, but this time we require that $n$ be an __even number.__\n",
    "\n",
    "#### Simpson's Rule for Approximating Integrals\n",
    "\n",
    "$$\\int_{a}^{b} f(x) dx \\approx S_n = \\frac{\\Delta x}{3}\\left[ f(x_0) + 4f(x_1) + 2f(x_2) + 4f(x_3) + \\cdots + 2f(x_{n-2}) + 4f(x_{n-1}) + f(x_n) \\right]$$\n",
    "\n",
    "$$\\text{where} \\space n \\space \\text{is even, and} \\space \\Delta x = \\frac{b-a}{n}$$\n",
    "\n",
    "### Error Bounds for Simpson's Rule\n",
    "\n",
    "If $f^{(4)}$ (the _fourth derivative_ of $f$) is __continuous,__ and $M$ is any upper bound for the values of $\\left|f^{(4)}\\right|$ on $[a,b]$, then the __error__ $E_s$ in the __Simpson's Rule approximation__ of the integral of $f$ from $a$ to $b$ for $n$ steps satisfies the inequality:\n",
    "\n",
    "$$\\left|E_s\\right| \\le \\frac{M(b-a)^5}{180n^4} \\quad \\quad \\tiny\\text{Simpson's Rule}$$\n"
   ]
  },
  {
   "cell_type": "code",
   "execution_count": null,
   "metadata": {
    "collapsed": true
   },
   "outputs": [],
   "source": []
  }
 ],
 "metadata": {
  "kernelspec": {
   "display_name": "Python 2",
   "language": "python",
   "name": "python2"
  },
  "language_info": {
   "codemirror_mode": {
    "name": "ipython",
    "version": 2
   },
   "file_extension": ".py",
   "mimetype": "text/x-python",
   "name": "python",
   "nbconvert_exporter": "python",
   "pygments_lexer": "ipython2",
   "version": "2.7.10"
  }
 },
 "nbformat": 4,
 "nbformat_minor": 0
}
