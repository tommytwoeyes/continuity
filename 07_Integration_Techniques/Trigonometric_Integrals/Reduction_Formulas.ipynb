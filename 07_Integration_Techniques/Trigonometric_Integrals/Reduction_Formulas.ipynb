{
 "cells": [
  {
   "cell_type": "markdown",
   "metadata": {},
   "source": [
    "# Reduction Formulas\n",
    "\n",
    "While the standard techniques of using trigonometric identities to assist in the integration of trigonometric integrands work just fine, they can be tedious to apply, especially for higher powers of the trigonometric functions.\n",
    "\n",
    "For instance, would you want to integrate this integral using those techniques?\n",
    "\n",
    "$$\\int \\sin^{17}(x)cos^{11}(x) dx$$\n",
    "\n",
    "No, of course not. It would be extraordinarily tedious. For this reason, __Reduction Formulas__ have been developed.\n",
    "\n",
    "## What Is a Reduction Formula?\n",
    "\n",
    "A __Reduction Formula__ is essentially an algorithm which can be applied to certain patterns of functions within an integrand, in order to integrate it.\n",
    "\n",
    "They are very useful (if you can memorize them) for trigonometric integrals, but there are other types of integrals for which reduction formulas exist, also.\n",
    "\n",
    "## Reduction Formulas\n",
    "\n",
    "Assume $n$ is a positive integer.\n",
    "\n",
    "<p>1. $$\\int sin^n(x) dx = -\\frac{sin^{n-1}(x)\\cos(x)}{n} + \\frac{n-1}{n} \\int \\sin^{n-2}(x) dx$$</p>\n",
    "\n",
    "<p>2. $$\\int cos^n(x) dx = \\frac{\\cos^{n-1}(x)\\sin(x)}{n} + \\frac{n-1}{n} \\int \\cos^{n-2}(x) dx$$</p>\n",
    "\n",
    "<p>3. $$\\int \\tan^n(x) dx = \\frac{tan^{n-1}(x)}{n-1} - \\int tan^{n-2}(x) dx, \\quad n \\ne 1$$</p>\n",
    "\n",
    "<p>4. $$\\int \\sec^n(x) dx = \\frac{sec^{n-2}(x)\\tan(x)}{n-1} + \\frac{n-2}{n-1} \\int \\sec^{n-2}(x) dx, \\quad n \\ne 1$$</p>"
   ]
  },
  {
   "cell_type": "code",
   "execution_count": null,
   "metadata": {
    "collapsed": true
   },
   "outputs": [],
   "source": []
  }
 ],
 "metadata": {
  "kernelspec": {
   "display_name": "Python 2",
   "language": "python",
   "name": "python2"
  },
  "language_info": {
   "codemirror_mode": {
    "name": "ipython",
    "version": 2
   },
   "file_extension": ".py",
   "mimetype": "text/x-python",
   "name": "python",
   "nbconvert_exporter": "python",
   "pygments_lexer": "ipython2",
   "version": "2.7.10"
  }
 },
 "nbformat": 4,
 "nbformat_minor": 0
}
