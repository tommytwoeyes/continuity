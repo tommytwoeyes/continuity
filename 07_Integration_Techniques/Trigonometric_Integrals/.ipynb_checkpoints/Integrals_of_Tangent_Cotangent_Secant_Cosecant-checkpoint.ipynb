{
 "cells": [
  {
   "cell_type": "markdown",
   "metadata": {},
   "source": [
    "# Integrals of $\\tan(x)$, $\\cot(x)$, $\\sec(x)$, and $\\csc(x)$\n",
    "\n",
    "The following are the antiderivatives of $\\tan(x)$, $\\cot(x)$, $\\sec(x)$, and $\\csc(x)$. Later, I'll show why these work.\n",
    "\n",
    "$$\n",
    "\\int \\tan(x) dx \\space = \\space -\\ln\\left|\\cos(x)\\right|+C \\space = \\space \\ln\\left|\\left(\\cos(x)\\right)^{-1}\\right|+C \\space = \\space \\ln\\left|\\sec(x)\\right|+C \\\\\n",
    "\\\\\n",
    "\\\\\n",
    "\\int \\cot(x) dx \\space = \\space \\ln\\left|\\sin(x)\\right|+C \\\\\n",
    "\\\\\n",
    "\\\\\n",
    "\\int \\sec(x) dx \\space = \\space \\ln\\left|\\sec(x) + \\tan(x)\\right| + C \\\\\n",
    "\\\\\n",
    "\\\\\n",
    "\\int \\csc(x) dx \\space = \\space -\\ln\\left|\\csc(x) + \\cot(x)\\right| + C\n",
    "$$"
   ]
  },
  {
   "cell_type": "code",
   "execution_count": null,
   "metadata": {
    "collapsed": true
   },
   "outputs": [],
   "source": []
  }
 ],
 "metadata": {
  "kernelspec": {
   "display_name": "Python 2",
   "language": "python",
   "name": "python2"
  },
  "language_info": {
   "codemirror_mode": {
    "name": "ipython",
    "version": 2
   },
   "file_extension": ".py",
   "mimetype": "text/x-python",
   "name": "python",
   "nbconvert_exporter": "python",
   "pygments_lexer": "ipython2",
   "version": "2.7.10"
  }
 },
 "nbformat": 4,
 "nbformat_minor": 0
}
