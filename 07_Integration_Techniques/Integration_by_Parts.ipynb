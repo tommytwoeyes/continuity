{
 "cells": [
  {
   "cell_type": "markdown",
   "metadata": {},
   "source": [
    "# Integration by Parts\n",
    "\n",
    "Integration by Parts is a method of integration used for integrands which consist of a product of two or more functions.\n",
    "\n",
    "## Formula\n",
    "$$\\int u dv = uv - \\int v du$$\n",
    "\n",
    "## Choosing $u$ and $dv$\n",
    "The choice of which functions to assign to the $u$ and $dv$ variables is the most critical decision you'll make while using the Integration by Parts method.\n",
    "\n",
    "In general:\n",
    "1. Choose $dv$ to be something that's easy to integrate.\n",
    "2. Choose $u$ to be something that becomes more simple, or \"smaller,\" when you take the derivative.\n",
    "\n",
    "### Professor Teague's Shortcut for Choosing $u$\n",
    "Professor Teague taught us an acronym which is extraordinarily useful in helping you to easily determine which function should be $u$. Unless you're integrating a product of 3 or more functions, then once you've chosen the $u$ function, all you're left with is $dv$.\n",
    "\n",
    "The shortcut is based on an acronym:\n",
    "\n",
    "> __LIATE__\n",
    ">\n",
    "> __L__ = _Natural Logarithm_<br/>\n",
    "> __I__ = _Inverse Trigonometric Functions_<br/>\n",
    "> __A__ = _Algebraic Functions_<br/>\n",
    "> __T__ = _Trigonometric Functions_<br/>\n",
    "> __E__ = _Exponential Functions_\n",
    "\n",
    "To use this method of choosing $u$ and $dv$, you examine the integrand, while reading the acronym from __left to right.__ In that order, choose the $u$ function.\n",
    "\n",
    "For instance, if you were asked to integrate:\n",
    "$$\\int x^2e^x dx$$\n",
    "\n",
    "$x^2$ is an _algebraic function,_ while $e^x$ is an _exponential function._ Because algebraic functions come before exponential functions in the acronym&mdash;reading it left-to-right&mdash;the choice of function for $u$ is obvious: it must be $x^2$.\n",
    "\n",
    "Similarly, in the following integrand,\n",
    "$$\\int x\\arctan(x) dx$$\n",
    "\n",
    "you can see that $\\arctan(x)$ (or $\\tan^-1(x)$&mdash;the alternate notation) is an inverse trigonometric function, which appears before the algebraic functions in the  <abbr title='Natural Log | Inverse Trig Functions | Algebraic Functions | Trigonometric Functions | Exponential Functions'>LIATE</abbr>, you should assign the function $x$ to $u$."
   ]
  },
  {
   "cell_type": "code",
   "execution_count": null,
   "metadata": {
    "collapsed": true
   },
   "outputs": [],
   "source": []
  }
 ],
 "metadata": {
  "kernelspec": {
   "display_name": "Python 2",
   "language": "python",
   "name": "python2"
  },
  "language_info": {
   "codemirror_mode": {
    "name": "ipython",
    "version": 2
   },
   "file_extension": ".py",
   "mimetype": "text/x-python",
   "name": "python",
   "nbconvert_exporter": "python",
   "pygments_lexer": "ipython2",
   "version": "2.7.10"
  }
 },
 "nbformat": 4,
 "nbformat_minor": 0
}
