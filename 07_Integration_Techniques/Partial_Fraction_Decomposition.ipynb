{
 "cells": [
  {
   "cell_type": "markdown",
   "metadata": {},
   "source": [
    "# Integration of Rational Functions Using Partial Fraction Decomposition \n",
    "\n",
    "<p class='lead'>\n",
    "The basic premise underlying this technique is:<br/>by breaking apart/decomposing rational functions (the quotient of two polynomials) into two or more simpler fractions (called _partial fractions_), you make your job of integrating much easier.\n",
    "</p>\n",
    "\n",
    "Partial fractions, which tend to be much more simple to integrate than rational functions, are \"created\" by the __method of partial fractions__ (or _partial fraction decomposition_), which involves finding the original factors which, added together, made the rational function you're faced with integrating.\n",
    "\n",
    "### Example\n",
    "The rational function here can be decomposed and re-written as the sum of two more simple fractions:\n",
    "\n",
    "$$\\frac{5x-3}{x^2-2x-3} = \\frac{2}{x+1} + \\frac{3}{x-3}$$\n",
    "\n",
    "<small><em>You can verify this equation algebraically by using the common denominator $(x+1)(x-3)$ to re-join them, and then simplifying the numerator.</em></small>\n",
    "\n",
    "To integration the partial fractions, just integrate each fraction individually and the add the integrals together.\n",
    "\n",
    "$$\\int \\frac{5x-3}{x^2-2x-3}dx = \\int \\frac{2}{x+1}dx + \\int \\frac{3}{x-3}dx$$"
   ]
  },
  {
   "cell_type": "code",
   "execution_count": null,
   "metadata": {
    "collapsed": true
   },
   "outputs": [],
   "source": []
  }
 ],
 "metadata": {
  "kernelspec": {
   "display_name": "Python 2",
   "language": "python",
   "name": "python2"
  },
  "language_info": {
   "codemirror_mode": {
    "name": "ipython",
    "version": 2
   },
   "file_extension": ".py",
   "mimetype": "text/x-python",
   "name": "python",
   "nbconvert_exporter": "python",
   "pygments_lexer": "ipython2",
   "version": "2.7.10"
  }
 },
 "nbformat": 4,
 "nbformat_minor": 0
}
