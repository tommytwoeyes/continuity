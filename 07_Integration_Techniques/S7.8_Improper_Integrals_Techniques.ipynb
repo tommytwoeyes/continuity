{
 "cells": [
  {
   "cell_type": "markdown",
   "metadata": {},
   "source": [
    "# Improper Integrals: Integration Techniques\n",
    "\n",
    "## Summary of Techniques\n",
    "This notebook describes techniques for handling integration of Improper Integrals of various types of elementary functions.\n",
    "\n",
    "\n",
    "## The Comparison Test\n",
    "This is a stub.\n",
    "\n",
    "\n",
    "## The Limit Comparison Test\n",
    "This is a stub.\n",
    "\n",
    "\n",
    "## The p-Test\n",
    "This is a stub.\n",
    "\n",
    "\n",
    "## Splitting Up the Integrand\n",
    "This is a stub.\n",
    "\n",
    "\n",
    "## How to Deal with Negative Function Values\n",
    "This is a stub.\n",
    "\n",
    "\n",
    "## Behavior of Common Functions Near $\\infty$ and $-\\infty$\n",
    "This is a stub.\n",
    "\n",
    "#### Polynomials & Poly-Type Functions Near $\\infty$ and $-\\infty$\n",
    "This is a stub.\n",
    "\n",
    "#### Trigonometric Functions Near $\\infty$ and $-\\infty$\n",
    "This is a stub.\n",
    "\n",
    "#### Exponential Functions Near $\\infty$ and $-\\infty$\n",
    "This is a stub.\n",
    "\n",
    "#### Logarithmic Functions Near $\\infty$\n",
    "This is a stub.\n",
    "\n",
    "\n",
    "## Behavior of Common Functions Near $0$\n",
    "This is a stub.\n",
    "\n",
    "#### Polynomials and Poly-Types Near $0$ \n",
    "This is a stub.\n",
    "\n",
    "#### Trigonometric Functions Near $0$\n",
    "This is a stub.\n",
    "\n",
    "#### Exponential Functions Near $0$\n",
    "This is a stub.\n",
    "\n",
    "#### Logarithmic Functions Near $0$\n",
    "This is a stub.\n"
   ]
  },
  {
   "cell_type": "code",
   "execution_count": null,
   "metadata": {
    "collapsed": true
   },
   "outputs": [],
   "source": []
  }
 ],
 "metadata": {
  "kernelspec": {
   "display_name": "Python 2",
   "language": "python",
   "name": "python2"
  },
  "language_info": {
   "codemirror_mode": {
    "name": "ipython",
    "version": 2
   },
   "file_extension": ".py",
   "mimetype": "text/x-python",
   "name": "python",
   "nbconvert_exporter": "python",
   "pygments_lexer": "ipython2",
   "version": "2.7.10"
  }
 },
 "nbformat": 4,
 "nbformat_minor": 0
}
