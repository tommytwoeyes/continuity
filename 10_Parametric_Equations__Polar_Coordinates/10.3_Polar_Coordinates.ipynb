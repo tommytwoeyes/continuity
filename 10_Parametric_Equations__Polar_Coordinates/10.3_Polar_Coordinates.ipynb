{
 "cells": [
  {
   "cell_type": "markdown",
   "metadata": {},
   "source": [
    "# Polar Coordinates\n",
    "\n",
    "Polar Coordinates is an alternate coordinate system (as opposed to the Cartesian Coordinate system).\n",
    "\n",
    "## Building a Polar Coordinate System\n",
    "1. Draw a point $O$ which will be the origin. The origin is called the __pole__ in the Polar Coordinate system.\n",
    "2. Draw an initial ray from $O$ to the right (with infinite length). This will be the __polar axis.__\n",
    "3. Each point in the plane can now be assigned the __polar coordinates__ $(r, \\theta)$.\n",
    "\n",
    "## Uniqueness of Points\n",
    "For any point in 3-dimensional space, there are an infinite number of coordinates which will identify the point, in the Polar Coordinate system.\n",
    "\n",
    "## Locating Points\n",
    "\n",
    "Even though a point in a Polar Coordinate system is $(r, \\theta)$, you should __consider $\\theta$ first__ when locating points.\n",
    "\n",
    "## Converting Polar Coordinates to Rectangular Coordinates\n",
    "\n",
    "To translate a point in Polar Coordinates to Rectangular (i.e. Cartesian) Coordinates, use the following formulas:\n",
    "\n",
    "<table style='width: 90%;'>\n",
    "  <thead>\n",
    "    <tr>\n",
    "      <th style='text-align: center;'>X-Coordinate</th>\n",
    "      <th style='text-align: center;'>Y-Coordinate</th>\n",
    "    </tr>\n",
    "  </thead>\n",
    "  <tbody>\n",
    "    <tr>\n",
    "      <td>\n",
    "        $$\\cos(\\theta) = \\frac{x}{r} \\\\ r\\cdot\\cos(\\theta) = \\frac{x}{r}\\cdot r \\\\ x=r\\cos(\\theta)$$\n",
    "      </td>\n",
    "      <td>\n",
    "        $$\\sin(\\theta) = \\frac{y}{r} \\\\ r\\cdot\\sin(\\theta) = \\frac{y}{r}\\cdot r \\\\ y=r\\sin(\\theta)$$\n",
    "      </td>\n",
    "    </tr>\n",
    "  </tbody>\n",
    "</table>\n",
    "\n",
    "## Converting Rectangular Coordinates to Polar Coordinates\n",
    "\n",
    "To translate a point in Rectangular (i.e. Cartesian) Coordinates to Polar Coordinates, use the following formulas:\n",
    "\n",
    "<table style='width: 90%;'>\n",
    "  <thead>\n",
    "    <tr>\n",
    "      <th style='text-align: center;'>r-Coordinate</th>\n",
    "      <th style='text-align: center;'>$\\theta$-Coordinate</th>\n",
    "    </tr>\n",
    "  </thead>\n",
    "  <tbody>\n",
    "    <tr>\n",
    "      <td>\n",
    "        To find the $r$-coordinate,<br/>use the __Pythagorean Theorem:__\n",
    "        $$r^2=x^2+y^2$$\n",
    "      </td>\n",
    "      <td>\n",
    "        To find the $\\theta$-coordinate,<br/>use $\\tan(\\theta)$:\n",
    "        $$\\tan(\\theta) = \\frac{y}{x}$$\n",
    "      </td>\n",
    "    </tr>\n",
    "  </tbody>\n",
    "</table>"
   ]
  },
  {
   "cell_type": "code",
   "execution_count": null,
   "metadata": {
    "collapsed": true
   },
   "outputs": [],
   "source": []
  }
 ],
 "metadata": {
  "kernelspec": {
   "display_name": "Python 2",
   "language": "python",
   "name": "python2"
  },
  "language_info": {
   "codemirror_mode": {
    "name": "ipython",
    "version": 2
   },
   "file_extension": ".py",
   "mimetype": "text/x-python",
   "name": "python",
   "nbconvert_exporter": "python",
   "pygments_lexer": "ipython2",
   "version": "2.7.10"
  }
 },
 "nbformat": 4,
 "nbformat_minor": 0
}
