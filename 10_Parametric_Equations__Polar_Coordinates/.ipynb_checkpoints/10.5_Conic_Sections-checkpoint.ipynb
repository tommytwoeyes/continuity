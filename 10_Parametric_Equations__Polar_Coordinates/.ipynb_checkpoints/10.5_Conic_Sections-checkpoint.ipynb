{
 "cells": [
  {
   "cell_type": "markdown",
   "metadata": {},
   "source": [
    "# Conic Sections\n",
    "\n",
    "A conic section (or simply conic) can be described as the intersection of a plane\n",
    "and a double-napped cone (i.e. _two cones; one resting on the other, point to point_). \n",
    "\n",
    "## Double-Napped Cone \n",
    "\n",
    "Sometimes called a __double cone,__ it is formed by revolving the line $y=x$ around the $y$-axis. The point where the two cones meet (at the tips) is called the __vertex.__\n",
    "\n",
    "Notice in the image below that __for the four basic conics, the\n",
    "intersecting plane does not pass through the vertex of the cone.__\n",
    "\n",
    "When the plane passes through the vertex, the resulting figure is a degenerate conic, as shown in bottom half of the image below.\n",
    "\n",
    "For a more detailed / rigorous __definition of conic sections,__ see George Simmons' _Calculus with Analytic Geometry, Second Edtion._\n",
    "\n",
    "<figure style='background-color: #FEFEF6; border: 2px solid #F0F0B7; padding-bottom: 1em; margin: 4rem 0 6rem;'>\n",
    "<img src='./conic_sections.png'/>\n",
    "<figcaption style='color: #CACA3F; text-align: center;'><small><em>Note: this image is credited to Ron Larson, author of Larson Calculus.</em></small></figcaption>\n",
    "</figure>\n",
    "\n",
    "---\n",
    "\n",
    "## Circles\n",
    "\n",
    "Circles, like all other conic sections, can be modeled in Cartesian coordinates using rectangular or parametric equations. They can also be modeled in Polar Coordinates.\n",
    "\n",
    "<table style='width: 100%; font-size: 1.4rem;'>\n",
    "  <caption style='font-family: \"Open Sans\", sans-serif; font-size: 2.2rem; font-weight: 100;'>General Equations of Conic Sections</caption>\n",
    "  <thead>\n",
    "    <tr>\n",
    "      <th>Rectangular Equation</th>\n",
    "      <th>Parametric Equation</th>\n",
    "      <th>Polar Equation</th>\n",
    "    </tr>\n",
    "  </thead>\n",
    "  <tbody>\n",
    "    <tr>\n",
    "        <td>$(x-h)^2 + (y-k)^2 = r^2$</td>\n",
    "        <td>$x=h+r\\cos(t) \\\\ y=k+r\\sin(t)$</td>\n",
    "        <td></td>\n",
    "    </tr>\n",
    "  </tbody>\n",
    "</table>"
   ]
  },
  {
   "cell_type": "code",
   "execution_count": null,
   "metadata": {
    "collapsed": true
   },
   "outputs": [],
   "source": []
  }
 ],
 "metadata": {
  "kernelspec": {
   "display_name": "Python 2",
   "language": "python",
   "name": "python2"
  },
  "language_info": {
   "codemirror_mode": {
    "name": "ipython",
    "version": 2
   },
   "file_extension": ".py",
   "mimetype": "text/x-python",
   "name": "python",
   "nbconvert_exporter": "python",
   "pygments_lexer": "ipython2",
   "version": "2.7.10"
  }
 },
 "nbformat": 4,
 "nbformat_minor": 0
}
