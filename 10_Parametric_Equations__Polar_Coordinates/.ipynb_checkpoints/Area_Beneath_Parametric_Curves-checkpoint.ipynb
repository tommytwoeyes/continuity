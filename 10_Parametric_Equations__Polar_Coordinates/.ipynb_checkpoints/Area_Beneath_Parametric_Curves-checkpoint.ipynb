{
 "cells": [
  {
   "cell_type": "markdown",
   "metadata": {},
   "source": [
    "# Calculating Area Beneath Parametric Curves\n",
    "\n",
    "To calculate the area beneath a parametric curve you have to use the Substitution Rule (i.e. U-Substition) to integrate $f(t)$ and $g(t)$:\n",
    "\n",
    "If $A = \\int_a^b F(x) dx$ and $y=g(t)=F(x)$, then the area under the parametric curve defined by $x=f(t), y=g(t)$ is:\n",
    "\n",
    "$$A = \\int_{\\alpha}^{\\beta} g(t)f'(t) dt$$\n",
    "\n",
    "where $\\alpha = f(a)$ and $\\beta = g(b)$.\n",
    "\n",
    "___\n",
    "\n",
    "## Practical Use\n",
    "\n",
    "So, in practice, you just need $y=g(t)$ and to find $\\frac{dx}{dt}$ for $x=f(t)$. Then you just integrate:\n",
    "\n",
    "$$A = \\int_{\\alpha}^{\\beta} g(t)\\frac{dx}{dt} dt$$"
   ]
  },
  {
   "cell_type": "code",
   "execution_count": null,
   "metadata": {
    "collapsed": true
   },
   "outputs": [],
   "source": []
  }
 ],
 "metadata": {
  "kernelspec": {
   "display_name": "Python 2",
   "language": "python",
   "name": "python2"
  },
  "language_info": {
   "codemirror_mode": {
    "name": "ipython",
    "version": 2
   },
   "file_extension": ".py",
   "mimetype": "text/x-python",
   "name": "python",
   "nbconvert_exporter": "python",
   "pygments_lexer": "ipython2",
   "version": "2.7.10"
  }
 },
 "nbformat": 4,
 "nbformat_minor": 0
}
