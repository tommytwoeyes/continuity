{
 "cells": [
  {
   "cell_type": "markdown",
   "metadata": {},
   "source": [
    "# Calculus with Parametric Curves\n",
    "\n",
    "Calculating derivatives of parametric equations is just as easy as it is for rectangular equations. \n",
    "\n",
    "### Derivatives of Parametric Equations\n",
    "\n",
    "When a pair of parametric equations represents the position of an object moving along the curve, $x'(t)$ and $y'(t)$ represent the __horizontal velocity__  and __vertical velocity,__ respectively.\n",
    "\n",
    "The slope of the curve, then, is the ratio of vertical to horizontal velocity, $\\frac{x'(t)}{y'(t)}$.\n",
    "\n",
    "<br/>\n",
    "<div class='theorem'>\n",
    "$\\text{Let } x=f(t), y=g(t).$\n",
    "$\\text{If both are differentiable functions on an interval } [a,b] \\text{, then: }$\n",
    "\n",
    "$$\\frac{dy}{dx} = \\frac{dy/dt}{dx/dt} = \\frac{y'(t)}{x'(t)}$$\n",
    "\n",
    "$\\text{provided that } \\frac{dx}{dt} \\ne 0.$\n",
    "</div>"
   ]
  },
  {
   "cell_type": "code",
   "execution_count": null,
   "metadata": {
    "collapsed": true
   },
   "outputs": [],
   "source": []
  }
 ],
 "metadata": {
  "kernelspec": {
   "display_name": "Python 2",
   "language": "python",
   "name": "python2"
  },
  "language_info": {
   "codemirror_mode": {
    "name": "ipython",
    "version": 2
   },
   "file_extension": ".py",
   "mimetype": "text/x-python",
   "name": "python",
   "nbconvert_exporter": "python",
   "pygments_lexer": "ipython2",
   "version": "2.7.10"
  }
 },
 "nbformat": 4,
 "nbformat_minor": 0
}
