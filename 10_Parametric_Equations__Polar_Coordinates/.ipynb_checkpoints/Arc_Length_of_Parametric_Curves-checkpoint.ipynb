{
 "cells": [
  {
   "cell_type": "markdown",
   "metadata": {},
   "source": [
    "# Arc Length of Parametric Curves\n",
    "\n",
    "Calculating the length of a parametric curve, when the parameter (e.g. $t$) represents time, means you can easily calculate the distance the object of the model has travelled.\n",
    "\n",
    "The formula for arc length of parametric curves is almost as simple as the formula for curves defined by rectangular equations:\n",
    "\n",
    "<div class='theorem'>\n",
    "<h4>Arc Length of Parametric Curves</h4>\n",
    "<br/>\n",
    "If a curve $C$ is defined by the parametric equations $x=f(t), y=g(t) \\text{ for } a \\le t \\le b,$ and:\n",
    "\n",
    "<ol>\n",
    "    <li>$f'(t)$ and $g'(t)$ are continuous on $[a,b]$</li>\n",
    "    <li>$C$ is traversed precisely once as $t$ increases from $a$ to $b$</li>\n",
    "</ol>\n",
    "\n",
    "<br/>\n",
    "then the length of curve $C$ is:\n",
    "\n",
    "$$L = \\sqrt{\\left(\\frac{dx}{dt}\\right)^2 + \\left(\\frac{dx}{dt}\\right)^2}dt$$\n",
    "</div>"
   ]
  },
  {
   "cell_type": "code",
   "execution_count": null,
   "metadata": {
    "collapsed": true
   },
   "outputs": [],
   "source": []
  }
 ],
 "metadata": {
  "kernelspec": {
   "display_name": "Python 2",
   "language": "python",
   "name": "python2"
  },
  "language_info": {
   "codemirror_mode": {
    "name": "ipython",
    "version": 2
   },
   "file_extension": ".py",
   "mimetype": "text/x-python",
   "name": "python",
   "nbconvert_exporter": "python",
   "pygments_lexer": "ipython2",
   "version": "2.7.10"
  }
 },
 "nbformat": 4,
 "nbformat_minor": 0
}
