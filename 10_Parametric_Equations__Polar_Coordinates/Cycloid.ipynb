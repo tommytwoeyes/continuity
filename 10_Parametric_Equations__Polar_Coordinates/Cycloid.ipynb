{
 "cells": [
  {
   "cell_type": "markdown",
   "metadata": {},
   "source": [
    "# The Cycloid\n",
    "\n",
    "Imagine a point on a wheel (e.g. a nail in a tire) and its behavior as the wheel rolls along on a flat surface, in a straight line in its own plane.\n",
    "\n",
    "The \"bouncing,\" curvy, trail that it leaves in the air&mdash;that's a __cycloid.__\n",
    "\n",
    "A cycloid is the curve traced out by a point on the circumference of a circle as the circle rolls along on a straight line, in its own plane.\n",
    "\n",
    "___\n",
    "\n",
    "### Parametric Equations of the (basic) Cycloid Curve\n",
    "\n",
    "$$\\mathbf{ x(t) = r(\\theta-\\sin\\theta) \\quad y(t) = r(1-\\cos\\theta) }$$\n",
    "\n",
    "$$\\text{ For } \\theta \\in \\mathbb{R}$$\n",
    "\n",
    "___\n",
    "\n",
    "## Applications\n",
    "Cycloids have many applications, including solutions to the [Brachistochrone](https://en.wikipedia.org/wiki/Brachistochrone_curve) and [Tautochrone](https://en.wikipedia.org/wiki/Tautochrone_curve) problems.\n",
    "\n",
    "Brachistochrone &amp; Tautochrone curves, in turn, have applications in, for example:\n",
    "\n",
    "* Pendulums\n",
    "* Clock-making (pendulums)\n",
    "* Surfing &amp; Skateboard ramp design ([Google it](https://www.google.com/search?q=Brachistochrone+curve+skateboard+ramp&oq=Brachistochrone+curve+skateboard+ramp))\n",
    "\n",
    "<img src='https://upload.wikimedia.org/wikipedia/commons/b/bd/Tautochrone_curve.gif'/>"
   ]
  },
  {
   "cell_type": "markdown",
   "metadata": {},
   "source": [
    "## Demo\n",
    "\n",
    "This cell should have a visual demonstration from [Desmos](https://www.desmos.com) of the cycloid graph as it is traced by a rolling circle. \n",
    "\n",
    "Unfortunately, however, iPython Notebook security constraints currently prevent embedding of HTML and/or JavaScript in Markdown cells. So, in order to incorporate this content, you'll likely need to write a small Python module that interacts with the Desmos API for you.\n",
    "\n",
    "<script src=\"https://desmos.com/api/v0.3/calculator.js?apiKey=dcb31709b452b1cf9dc26972add0fda6\"></script>\n",
    "\n",
    "<script>\n",
    "  var elt = document.getElementById('calculator');\n",
    "  var calculator = Desmos.Calculator(elt);\n",
    "  calculator.setExpression({id:'graph1', latex:'y=x^2'});\n",
    "  calculator.setExpression({id:'cycloid1', latext: '(2(t-\\sin(t))), (2(1-\\cos(t)))'});\n",
    "</script>\n",
    "\n",
    "<div id=\"calculator\" style=\"width: 300px; height: 300px;\"></div>\n",
    "\n",
    "For now, a couple of static image representations of the graph is the best I can do.\n",
    "\n",
    "<img src='./cycloid_components.png'/>\n",
    "\n",
    "<img src='https://s3.amazonaws.com/grapher/exports/adn8chofcz.png'/>"
   ]
  },
  {
   "cell_type": "code",
   "execution_count": null,
   "metadata": {
    "collapsed": true
   },
   "outputs": [],
   "source": []
  }
 ],
 "metadata": {
  "kernelspec": {
   "display_name": "Python 2",
   "language": "python",
   "name": "python2"
  },
  "language_info": {
   "codemirror_mode": {
    "name": "ipython",
    "version": 2
   },
   "file_extension": ".py",
   "mimetype": "text/x-python",
   "name": "python",
   "nbconvert_exporter": "python",
   "pygments_lexer": "ipython2",
   "version": "2.7.10"
  }
 },
 "nbformat": 4,
 "nbformat_minor": 0
}
