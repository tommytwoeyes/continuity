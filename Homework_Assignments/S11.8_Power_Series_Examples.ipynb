{
 "cells": [
  {
   "cell_type": "markdown",
   "metadata": {},
   "source": [
    "<hgroup>\n",
    "    <h1>Power Series</h1>\n",
    "    <h5>Section 11.8</h5>\n",
    "</hgroup>\n",
    "\n",
    "Although the section number is from our official course textbook, _Stewart Calculus: Early Transcendentals,_ because that book is __total crap,__ these are examples from the (superior) textbook, _Thomas Calculus, Twelfth Edition._ Its author, George Thomas, was an MIT professor who does an incomparably better job of explaining calculus concepts than does James Stewart (whose textbook would make you think he'd rarely even attempted to explain any concepts).\n",
    "\n",
    "---"
   ]
  },
  {
   "cell_type": "markdown",
   "metadata": {},
   "source": [
    "## Example 3\n",
    "\n",
    "<p class='lead'>How to test a power series for convergence by using the _Ratio Test_ to determine for which values of $x$ it converges/diverges.</p>\n",
    "\n",
    "For what values of $x$ do the following power series converge?\n",
    "\n",
    "___\n",
    "\n",
    "__a)__ $\\quad \\sum_{n=1}^{\\infty} (-1)^{n-1} \\frac{x^n}{n} = x - \\frac{x^2}{2} + \\frac{x^3}{3} - ... + \\frac{x^n}{n}$\n",
    "\n",
    "First, examine a larger list of terms:\n",
    "\n",
    "$$\\sum_{n=1}^{\\infty} (-1)^{n-1} \\frac{x^n}{n} = x - \\frac{x^2}{n} + \\frac{x^3}{n} - \\frac{x^4}{4} + \\frac{x^5}{n} - \\frac{x^6}{n} + \\frac{x^7}{7} - ...$$\n",
    "\n",
    "The Ratio Test says that for series with positive terms, you take the limit of the ratio of two consecutive terms. If the result, $p$ is less than one, the series converges:\n",
    "\n",
    "$$\n",
    "\\require{cancel}\n",
    "\\color{blue}p\\color{black} = \\lim_\\limits{n \\to \\infty} \\left|\\frac{a_{n+1}}{a_n} \\right| \\\\\n",
    "\\text{If } \\color{blue}p\\color{black} < 1 \\text{, the series converges.} \\\\\n",
    "\\text{If } \\color{blue}p\\color{black} > 1 \\text{ or } \\color{blue}p\\color{black} \\to \\infty \\text{ as } n \\to \\infty \\text{, the series diverges.} \\\\\n",
    "\\text{If } \\color{blue}p\\color{black}=1 \\text{, the result is inconclusive, meaning } \\\\\n",
    "\\text{you can't tell if the series is convergent or divergent.}\n",
    "$$\n",
    "\n",
    "For the series in __a),__, the ratio test, is:\n",
    "\n",
    "$$\n",
    "\\lim_\\limits{n \\to \\infty} \\left| \\frac{ \\frac{x^{n+1}}{n+1} }{ \\frac{x^n}{n} }\n",
    "\\right| = \\color{blue}p \n",
    "$$\n",
    "\n",
    "$$\n",
    "= \\lim_\\limits{n \\to \\infty} \\left| \\frac{x^{n+1}}{n+1} \\cdot \\frac{n}{x^n} \\right| = \\lim_\\limits{n \\to \\infty} \\left| \\frac{x^{\\cancel{n+1}}}{n+1} \\cdot \\frac{n}{\\cancel{x^n}} \\right|$$\n",
    "\n",
    "$$\n",
    "= \\lim_\\limits{n \\to \\infty} \\frac{n}{n+1} \\cdot |x|\n",
    "$$\n",
    "\n",
    "$$\n",
    "= \\left( \\frac{n}{n} \\right) \\cdot |x| \\quad \\text{ (<= n / (n+1) behaves like 1 as } n \\to \\infty \\text{)}\n",
    "$$\n",
    "\n",
    "$$= |x|$$\n",
    "\n",
    "So, the series converges for $|x| < 1$, which is the same as saying, $-1 < x < 1$.\n",
    "\n",
    "It diverges if $|x| > 1$, because in that scenario the _nth term_ does not converge to zero.\n",
    "\n",
    "Therefore, the radius of convergence $R$ is equal to one: $R = 1$.\n",
    "\n",
    "___\n",
    "\n",
    "__b)__ $\\quad \\sum_{n=1}^{\\infty} (-1)^{n-1} \\frac{x^{2n-1}}{2n-1} = \\left[ (-1)^{1-1} \\cdot \\frac{x^{2(1)-1}}{2(1)-1} \\right] + \\left[ (-1)^{2-1} \\cdot \\frac{x^{2(2)-1}}{2(2)-1} \\right] + \\left[ (-1)^{3-1} \\cdot \\frac{x^{2(3)-1}}{2(3)-1} \\right]$\n",
    "\n",
    "$$= \\sum_{n=1}^{\\infty} \\left( (-1)^{n-1} \\cdot \\frac{x^{2n-1}}{2n-1} \\right) = x - \\frac{x^3}{3} + \\frac{x^5}{5} - \\frac{x^7}{7} + \\frac{x^8}{8} - ... $$\n",
    "\n",
    "The Ratio Test for this power series looks like this:\n",
    "\n",
    "$$\n",
    "\\color{blue}p\\color{black} = \\lim_\\limits{n \\to \\infty} \\left| \\frac{ \\frac{x^{2(n+1)-1}}{2(n+1)-1} }{ \\frac{x^{2n-1}}{2n-1} } \\right| = \n",
    "\\lim_\\limits{n \\to \\infty} \\left| \\frac{x^{2(n+1)-1}}{2(n+1)-1} \\cdot \\frac{2n-1}{x^{2n-1}} \\right|\n",
    "$$"
   ]
  },
  {
   "cell_type": "code",
   "execution_count": null,
   "metadata": {
    "collapsed": true
   },
   "outputs": [],
   "source": []
  }
 ],
 "metadata": {
  "kernelspec": {
   "display_name": "Python 2",
   "language": "python",
   "name": "python2"
  },
  "language_info": {
   "codemirror_mode": {
    "name": "ipython",
    "version": 2
   },
   "file_extension": ".py",
   "mimetype": "text/x-python",
   "name": "python",
   "nbconvert_exporter": "python",
   "pygments_lexer": "ipython2",
   "version": "2.7.10"
  }
 },
 "nbformat": 4,
 "nbformat_minor": 0
}
