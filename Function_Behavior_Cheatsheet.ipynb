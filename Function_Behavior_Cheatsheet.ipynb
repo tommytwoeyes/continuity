{
 "cells": [
  {
   "cell_type": "markdown",
   "metadata": {},
   "source": [
    "# Function Behavior of Cheatsheet\n",
    "\n",
    "For exercises involving taking limits of common elementary functions, this summary of elementary function behavior near $\\infty$ / $-\\infty$ and near $0$ is indispensable."
   ]
  },
  {
   "cell_type": "markdown",
   "metadata": {},
   "source": [
    "## General Growth/Decay Rates\n",
    "\n",
    "Always remember that, in terms of how fast they grow:\n",
    "\n",
    "> $$e^{x^n} > \\tan(x) > e^x > x^n > x > \\log(x)$$"
   ]
  },
  {
   "cell_type": "markdown",
   "metadata": {},
   "source": [
    "## Polynomials & Poly-Types\\*\n",
    "\n",
    "1. The __highest power term dominates__ for polynomials/poly-types near $\\infty$ and $-\\infty$\n",
    "   > If the highest-degree term of $f(x)$ is $ax^n$, then $f(x) \\sim ax^n$ as $x \\to \\infty$ or $x \\to -\\infty$.\n",
    "\n",
    "2. The __lowest power dominates__ for polynomials/poly-types near __zero (0)__.\n",
    "   > If the lowest-degree term of $f(x)$ is $bx^m$, then $f(x) \\sim bx^m$ as $x \\to 0$.\n",
    "\n",
    "\n",
    "---\n",
    "\n",
    "## Exponential Functions \n",
    "\n",
    "#### Behavior near $\\infty$ and $-\\infty$\n",
    "\n",
    "Remember (important): __exponentials grow faster than polynomials.__\n",
    "\n",
    "This means that, for example: \n",
    "> $$\\lim_\\limits{x\\to \\infty}\\frac{x^n}{e^x} = 0$$\n",
    "\n",
    "You can also write that as $e^{-x}x^n$, and divide by $x^n$, to get:\n",
    "> $e^{-x} \\le \\frac{C}{x^n}$ for all $x > 0$\n",
    "\n",
    "---\n",
    "\n",
    "#### Behavior near $0$\n",
    "\n",
    "\n",
    "---\n",
    "\n",
    "## Logarithmic Functions\n",
    "\n",
    "#### Behavior near $\\infty$ \n",
    "\n",
    "Logs grow more slowly than any other function of $x$, __near infinity.__ \n",
    "In fact, for any positive number $a > 0$, no matter how small, you have:\n",
    "\n",
    "> $$\\lim_\\limits{x\\to \\infty} \\frac{\\ln(x)}{x^a} = 0$$\n",
    "\n",
    "Similarly,\n",
    "\n",
    "> $$\\ln(x) \\le Cx^a \\text{ for all } x > 1$$\n",
    "\n",
    "---\n",
    "\n",
    "#### Behavior near $0$\n",
    "Always remember that:\n",
    "> $$\\lim_\\limits{x\\to 0^+}x^a\\ln(x) = 0$$\n",
    "\n",
    "---\n",
    "\n",
    "## Trigonometric Functions\n",
    "\n",
    "#### Behavior near $\\infty$ and $-\\infty$\n",
    "\n",
    "---\n",
    "\n",
    "#### Behavior near $0$\n",
    "\n",
    "---"
   ]
  },
  {
   "cell_type": "markdown",
   "metadata": {},
   "source": [
    "<p><small><em><strong>* \"Poly-type\" functions:</strong> functions involving terms with rational exponents, like the example below, are not technically polynomial functions. But their behavior at the extremes is similar to polynomials, so I've grouped them together in terms of behavior.</em></small></p>\n",
    "\n",
    "$$f(x) = 2x^5+4x^2+17x^{2/3}-12 \\quad \\quad g(x) = \\sqrt{x^9-27x^3+81} \\quad \\quad h(x) = x^8 - \\sqrt{x^2-\\sqrt[4]{x^2+3}}$$"
   ]
  },
  {
   "cell_type": "code",
   "execution_count": null,
   "metadata": {
    "collapsed": true
   },
   "outputs": [],
   "source": []
  }
 ],
 "metadata": {
  "kernelspec": {
   "display_name": "Python 2",
   "language": "python",
   "name": "python2"
  },
  "language_info": {
   "codemirror_mode": {
    "name": "ipython",
    "version": 2
   },
   "file_extension": ".py",
   "mimetype": "text/x-python",
   "name": "python",
   "nbconvert_exporter": "python",
   "pygments_lexer": "ipython2",
   "version": "2.7.10"
  }
 },
 "nbformat": 4,
 "nbformat_minor": 0
}
