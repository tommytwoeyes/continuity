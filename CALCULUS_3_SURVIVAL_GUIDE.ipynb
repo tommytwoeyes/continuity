{
 "cells": [
  {
   "cell_type": "markdown",
   "metadata": {},
   "source": [
    "# Calculus III Survival Guide\n",
    "\n",
    "You have survived both Calculus I and Calculus III. Congratulations!\n",
    "\n",
    "### Don't get cocky. \n",
    "This is a tough course. We cover more material than you did in Calculus II. Finding qualified tutors can be difficult. We won't be able to cover every detail and type of problem in class. You have to be self motivated.\n",
    "\n",
    "### Review Calculus I &amp; Calculus II\n",
    "Review Calculus I and Calculus II before the semester even starts! Some of the methods (like the Chain Rule) from Calculus I aren't used a lot in Calculus II, but will be needed in Calculus III. So, don't cripple yourself before the course even begins&mdash;__review thoroughly before the first day of class!__\n",
    "\n",
    "### Vectors\n",
    "The first part of the course covers vectors&mdash;which many of you will have seen in physics courses already. Sometimes students will slack off, with some even thinking they can cut class. __Don't fall into this trap!__ We will quickly move beyond what you had in physics.\n",
    "\n",
    "### Thinking in Three Dimensions\n",
    "The material in the last part of the course is _very difficult._ You have to think in 3-dimensional space and at a high level of abstraction.\n",
    "\n",
    "Some of you are in project-based courses, in which it is normal to have periods of intense work interspersed with some slack time. But in Calculus III, you must put in a __steady level of intense work every week.__\n",
    "\n",
    "You cannot slack off here&mdash;because of a big project in another class or whatever&mdash;and then hope to get caught up later. Cut back on TV and video games. Also, you really cannot afford to get wasted, not even on the weekends. \n",
    "\n",
    "### Welcome to the Big Leagues\n",
    "When you graduate you will be competing with scientists and engineers from all over the planet. If you want make the big bucks later, you have to pay your dues now.\n",
    "So:\n",
    "\n",
    "* Come to every lecture! \n",
    "* Do all the homework! \n",
    "* Meet with your instructor if you become confused or start to fall behind!\n",
    "\n",
    "---\n",
    "\n",
    "<cite>Credit for this <a href='http://galileo.math.siu.edu/mikesullivan/Courses/251/S12/survive.html' target='_blank'>material</a> is given to Prof. Mike Sullivan at Southern Illinois University.</cite>"
   ]
  },
  {
   "cell_type": "code",
   "execution_count": null,
   "metadata": {
    "collapsed": true
   },
   "outputs": [],
   "source": []
  }
 ],
 "metadata": {
  "kernelspec": {
   "display_name": "Python 2",
   "language": "python",
   "name": "python2"
  },
  "language_info": {
   "codemirror_mode": {
    "name": "ipython",
    "version": 2
   },
   "file_extension": ".py",
   "mimetype": "text/x-python",
   "name": "python",
   "nbconvert_exporter": "python",
   "pygments_lexer": "ipython2",
   "version": "2.7.10"
  }
 },
 "nbformat": 4,
 "nbformat_minor": 0
}
