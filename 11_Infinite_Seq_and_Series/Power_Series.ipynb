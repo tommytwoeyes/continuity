{
 "cells": [
  {
   "cell_type": "markdown",
   "metadata": {},
   "source": [
    "# Power Series\n",
    "\n",
    "## Premise\n",
    "Blah blah blah blah\n",
    "\n",
    "<hgroup>\n",
    "    <h2>Motivation</h2>\n",
    "    <h6>Applications of Power Series</h6>\n",
    "</hgroup>\n",
    "\n",
    "> Possibly the most basic reason why power series are useful is that they allow you\n",
    "> to approximate any (possibly convoluted, but smooth) function $f(x)$ by its\n",
    "> (truncated) power series \n",
    "> $f(x) = \\sum_{n=1}^{\\infty} a_nx^n = \\sum_{n \\le N} a_nx^n + O(x^{n+1})$. \n",
    "> \n",
    "> Power series are easy to manipulate and understand, general functions&mdash;\n",
    "> not necessarily.\n",
    "\n",
    "<cite>\n",
    "    <small>From an answer regarding the utility of Power Series on the [Math StackExchange](http://math.stackexchange.com/questions/564612/what-are-some-practical-uses-of-power-series#answer-564668).\n",
    "    </small>\n",
    "</cite>"
   ]
  },
  {
   "cell_type": "code",
   "execution_count": null,
   "metadata": {
    "collapsed": true
   },
   "outputs": [],
   "source": []
  }
 ],
 "metadata": {
  "kernelspec": {
   "display_name": "Python 2",
   "language": "python",
   "name": "python2"
  },
  "language_info": {
   "codemirror_mode": {
    "name": "ipython",
    "version": 2
   },
   "file_extension": ".py",
   "mimetype": "text/x-python",
   "name": "python",
   "nbconvert_exporter": "python",
   "pygments_lexer": "ipython2",
   "version": "2.7.10"
  }
 },
 "nbformat": 4,
 "nbformat_minor": 0
}
