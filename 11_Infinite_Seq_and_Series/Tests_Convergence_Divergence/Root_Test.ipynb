{
 "cells": [
  {
   "cell_type": "markdown",
   "metadata": {},
   "source": [
    "# Root Test\n",
    "\n",
    "For more complicated patterns in infinite series (see the example below), other convergence/divergence tests may not suffice.\n",
    "\n",
    "For certain patterns in series, the _Root Test_ may work better."
   ]
  },
  {
   "cell_type": "markdown",
   "metadata": {},
   "source": [
    "<div class='theorem'>\n",
    "<h3>Root Test</h3>\n",
    "\n",
    "Let $\\sum a_n$ be a series with $a_n \\ge 0$ for $n \\ge N$, and suppose that:\n",
    "\n",
    "$$\\lim_{n \\to \\infty} \\sqrt[n]{a_n} = p$$\n",
    "\n",
    "Then the series:\n",
    "<ol class='roman'>\n",
    "    <li>_converges_ if $p < 1$</li>\n",
    "    <li>_diverges_ if $p > 1$ or $p \\to \\infty$</li>\n",
    "    <li>has an _inconclusive_ result if $p = 1$</li>\n",
    "</ol>\n",
    "</div>"
   ]
  },
  {
   "cell_type": "code",
   "execution_count": null,
   "metadata": {
    "collapsed": true
   },
   "outputs": [],
   "source": []
  }
 ],
 "metadata": {
  "kernelspec": {
   "display_name": "Python 2",
   "language": "python",
   "name": "python2"
  },
  "language_info": {
   "codemirror_mode": {
    "name": "ipython",
    "version": 2
   },
   "file_extension": ".py",
   "mimetype": "text/x-python",
   "name": "python",
   "nbconvert_exporter": "python",
   "pygments_lexer": "ipython2",
   "version": "2.7.10"
  }
 },
 "nbformat": 4,
 "nbformat_minor": 0
}
