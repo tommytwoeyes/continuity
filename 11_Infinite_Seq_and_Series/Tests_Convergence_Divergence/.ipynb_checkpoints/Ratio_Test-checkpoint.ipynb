{
 "cells": [
  {
   "cell_type": "markdown",
   "metadata": {
    "collapsed": true
   },
   "source": [
    "# Ratio Test\n",
    "\n",
    "The _Ratio Test_ measures the rate of growth (or decline) of a series by __examining the ratio $\\frac{a_{n+1}}{a_n}$__"
   ]
  },
  {
   "cell_type": "markdown",
   "metadata": {},
   "source": [
    "<div class='theorem'>\n",
    "<h3>Ratio Test - Theorem</h3>\n",
    "\n",
    "Leg $\\sum a_n$ be a series with positive terms, and suppose that\n",
    "\n",
    "$$\\lim_{n \\to \\infty} \\frac{a_{n+1}}{a_n} = p$$\n",
    "\n",
    "Then:\n",
    "<ol class='roman'>\n",
    "<li>The series _converges_ if $p < 1$</li>\n",
    "<li>The series _diverges_ if $p > 1$ or is infinite</li>\n",
    "<li>The test is _inconclusive_ if $p = 1$</li>\n",
    "</ol>\n",
    "</div>"
   ]
  },
  {
   "cell_type": "code",
   "execution_count": null,
   "metadata": {
    "collapsed": true
   },
   "outputs": [],
   "source": []
  }
 ],
 "metadata": {
  "kernelspec": {
   "display_name": "Python 2",
   "language": "python",
   "name": "python2"
  },
  "language_info": {
   "codemirror_mode": {
    "name": "ipython",
    "version": 2
   },
   "file_extension": ".py",
   "mimetype": "text/x-python",
   "name": "python",
   "nbconvert_exporter": "python",
   "pygments_lexer": "ipython2",
   "version": "2.7.10"
  }
 },
 "nbformat": 4,
 "nbformat_minor": 0
}
