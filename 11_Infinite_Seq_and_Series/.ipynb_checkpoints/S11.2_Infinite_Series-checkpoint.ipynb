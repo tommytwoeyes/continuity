{
 "cells": [
  {
   "cell_type": "markdown",
   "metadata": {},
   "source": [
    "# Infinite Series\n",
    "\n",
    "An _infinite sum_ is the sum of an infinite sequence of terms $a_1 + a_2 + a_3 + a_4 + a_5 + ... + a_n$.\n",
    "\n",
    "The goal is to come to understand the meaning of such an infinite sum and to develop methods to calculate it.\n",
    "\n",
    "__Note:__ See __MIT's [Calculus Revisited](http://ocw.mit.edu/resources/res-18-006-calculus-revisited-single-variable-calculus-fall-2010/index.htm)__ lecture, _[Many vs Infinite](http://ocw.mit.edu/resources/res-18-006-calculus-revisited-single-variable-calculus-fall-2010/part-vii-infinite-series/lecture-1-many-versus-infinite/),_ which introduces infinite series. It has an excellent definition and description of just how profound infinity is.\n",
    "\n",
    "## Notation\n",
    "Conventionally, infinite series use sigma notation. These are example of acceptable index variables. \n",
    "\n",
    "$$\\sum_{n=1}^{\\infty} a_n, \\quad \\quad \\sum_{k=1}^{\\infty} b_k, \\quad \\text{ or } \\quad \\sum a_n$$\n",
    "\n",
    "The final one has no index variable, which is a useful shortcut when summation from $1$ to $\\infty$ is understood.\n",
    "\n",
    "---\n",
    "\n",
    "## Calculating Infinite Sums\n",
    "\n",
    "<p class='lead'>\n",
    "The <strong>sum of a series</strong> = the <strong>limit of the sequence of partial sums.</strong>&mdash;_i.e.:_\n",
    "</p>\n",
    "\n",
    "$$\\sum a_n = \\lim_{n \\to \\infty} S_n \\quad \\text{ where } S_n = \\text{ the sequence of partial sums }$$\n",
    "\n",
    "Since infinite sums always have more terms, no matter where you stop counting, the method for calculating the sum of an infinite series is:\n",
    "\n",
    "1. Evaluate the result of adding the first $n$ terms, then stopping. The sum of the first $n$ terms is called the __[Nth Partial Sum](#partial_sum).__\n",
    "2. Take the limit as $n \\to \\infty$ and see if the limit exists (i.e. the sum approaches a finite number.\n",
    "___\n",
    "\n",
    "## Convergence vs Divergence\n",
    "\n",
    "##### Convergence\n",
    "The __series converges__ if the second step above results in a __finite limit.__\n",
    "\n",
    "##### Divergence\n",
    "If the limit isn't finite, the __series diverges:__\n",
    "- If the limit goes to infinity, the series is said to _diverge to infinity._\n",
    "- If the series has no limit, because it oscillates between two or more values, then it simply _diverges._\n",
    "---\n",
    "\n",
    "<a name='partial_sums'></a>\n",
    "## Partial Sums\n",
    "The sum of the first $n$ terms \n",
    "\n",
    "$$S_n = a_1 + a_2 + a_3 + a_4 + a_5 + ... + a_n$$\n",
    "\n",
    "is an ordinary finite sum you get just through simple addition. It's called the __nth partial sum.__\n",
    "\n",
    "For instance, the nth partial sum of the sequence $\\{a_n\\}$ apparently approaches the number 2:\n",
    "\n",
    "$$\\{a_n\\} = 1, \\frac{1}{2}, \\frac{1}{4}, \\frac{1}{8}, \\frac{1}{16}, \\frac{1}{32}, ..., a_n$$\n",
    "\n",
    "$$S_n = 1 + \\frac{1}{2} + \\frac{1}{4} + \\frac{1}{8} + \\frac{1}{16} + \\frac{1}{32} + ... s_n$$\n",
    "\n",
    "$$\\lim_{n\\to\\infty} \\{S_n\\} = 2$$"
   ]
  },
  {
   "cell_type": "code",
   "execution_count": null,
   "metadata": {
    "collapsed": true
   },
   "outputs": [],
   "source": []
  }
 ],
 "metadata": {
  "kernelspec": {
   "display_name": "Python 2",
   "language": "python",
   "name": "python2"
  },
  "language_info": {
   "codemirror_mode": {
    "name": "ipython",
    "version": 2
   },
   "file_extension": ".py",
   "mimetype": "text/x-python",
   "name": "python",
   "nbconvert_exporter": "python",
   "pygments_lexer": "ipython2",
   "version": "2.7.10"
  }
 },
 "nbformat": 4,
 "nbformat_minor": 0
}
