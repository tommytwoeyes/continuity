{
 "cells": [
  {
   "cell_type": "code",
   "execution_count": 50,
   "metadata": {
    "collapsed": false
   },
   "outputs": [
    {
     "name": "stdout",
     "output_type": "stream",
     "text": [
      "The sum is: E\n"
     ]
    },
    {
     "data": {
      "text/plain": [
       "'2.7182818284590452353602874713526624977572470937'"
      ]
     },
     "execution_count": 50,
     "metadata": {},
     "output_type": "execute_result"
    }
   ],
   "source": [
    "# Generate e using infinite series\n",
    "\n",
    "import sympy\n",
    "from sympy.mpmath import mp\n",
    "mp.dps = 50\n",
    "mp.pretty = True\n",
    "\n",
    "n = sympy.symbols('n', integer=True)\n",
    "\n",
    "result = sympy.summation(1/sympy.factorial(n), (n, 0, sympy.oo))\n",
    "\n",
    "print(\"The sum is: {}\".format(result))\n",
    "\n",
    "str(mp.e)"
   ]
  },
  {
   "cell_type": "code",
   "execution_count": 59,
   "metadata": {
    "collapsed": false
   },
   "outputs": [
    {
     "name": "stdout",
     "output_type": "stream",
     "text": [
      "Sum: E\n",
      "1 + EulerGamma*x + x**2*(-pi**2/12 + EulerGamma**2/2) + O(x**3)\n"
     ]
    }
   ],
   "source": [
    "import sympy as sy\n",
    "\n",
    "# Custom (mathematic) function: \n",
    "# Compute the reciprocal of the factorial of an integer\n",
    "class factorial_reciprocal(sy.Function):\n",
    "    \n",
    "    nargs = 1\n",
    "    \n",
    "    @classmethod\n",
    "    def eval(cls, arg):\n",
    "        #if arg < 0:\n",
    "         #   raise ValueError('The factorial function takes only arguments greater than or equal to zero (0).')\n",
    "        return 1 / sy.factorial(arg)\n",
    "    \n",
    "x = sy.var('x')\n",
    "\n",
    "print(\"Sum: {}\".format( sy.summation(factorial_reciprocal(x), (x, 0, sy.oo)) ))\n",
    "\n",
    "print( factorial_reciprocal(x).series(x, x0=0, n=3) )"
   ]
  },
  {
   "cell_type": "code",
   "execution_count": null,
   "metadata": {
    "collapsed": true
   },
   "outputs": [],
   "source": []
  }
 ],
 "metadata": {
  "kernelspec": {
   "display_name": "Python 2",
   "language": "python",
   "name": "python2"
  },
  "language_info": {
   "codemirror_mode": {
    "name": "ipython",
    "version": 2
   },
   "file_extension": ".py",
   "mimetype": "text/x-python",
   "name": "python",
   "nbconvert_exporter": "python",
   "pygments_lexer": "ipython2",
   "version": "2.7.10"
  }
 },
 "nbformat": 4,
 "nbformat_minor": 0
}
