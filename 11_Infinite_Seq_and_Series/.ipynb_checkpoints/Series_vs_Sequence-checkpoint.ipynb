{
 "cells": [
  {
   "cell_type": "markdown",
   "metadata": {},
   "source": [
    "# What is the difference between a Sequence and a Series?\n",
    "\n",
    "It is critical to comprehend the difference between a sequence and a series.\n",
    "\n",
    "### Sequence:\n",
    "In essence, a function which maps each __positive integer (sometimes including zero)__ to each term in an ordered list of values. The domain of a sequence is the __set of all positive integers__.\n",
    "              \n",
    "For instance, the sequence $\\{a_n\\} = 2, 4, 6, 8, 10, ..., a_n$ maps each positive integer to the rule $2n$. \n",
    "              \n",
    "Thus, the terms of the sequence are: \n",
    "$$\n",
    "\\{a_n\\} = \\\\\n",
    "a_1 \\text{ -> } 2,\\\\\n",
    "a_2 \\text{ -> } 4,\\\\\n",
    "a_3 \\text{ -> } 6,\\\\\n",
    "a_4 \\text{ -> } 8,\\\\\n",
    "...\n",
    "$$\n",
    "              \n",
    "### Series:   \n",
    "The __sum__ of an __infinite sequence__ of numbers, e.g.:\n",
    "\n",
    "$$\n",
    "S_n = \\sum_{n=1}^{\\infty} a_n\n",
    "$$\n",
    "\n",
    "---\n",
    "## Example\n",
    "A sequence and series pairing which you will use often is __an infinite series & the sequence of its partial sums.__ The first is the infinite series itself, $\\{a_n\\}$, and the second it the _sequence_ of the series' partial sums:\n",
    "\n",
    "$$\n",
    "\\sum_{n=1}^{\\infty} a_n = a_1 + a_2 + a_3 + a_4 + a_5 + a_6 + a_7 + a_8 + ... + a_n \\\\\n",
    "\\{s_n\\} = \\\\\n",
    "s_1 = a_1, \\\\\n",
    "s_2 = a_1 + a2, \\\\\n",
    "s_3 = a_1 + a_2 + a_3, \\\\\n",
    "s_4 = a_1 + a_2 + a_3 + a_4, \\\\\n",
    "s_5 = a_1 + a_2 + a_3 + a_4 + a_5, \\\\\n",
    "..., \\\\\n",
    "s_n = a_1 + a_2 + a_3 + a_4 + a_5 + ... + a_n\n",
    "$$"
   ]
  },
  {
   "cell_type": "code",
   "execution_count": null,
   "metadata": {
    "collapsed": true
   },
   "outputs": [],
   "source": []
  }
 ],
 "metadata": {
  "kernelspec": {
   "display_name": "Python 2",
   "language": "python",
   "name": "python2"
  },
  "language_info": {
   "codemirror_mode": {
    "name": "ipython",
    "version": 2
   },
   "file_extension": ".py",
   "mimetype": "text/x-python",
   "name": "python",
   "nbconvert_exporter": "python",
   "pygments_lexer": "ipython2",
   "version": "2.7.10"
  }
 },
 "nbformat": 4,
 "nbformat_minor": 0
}
