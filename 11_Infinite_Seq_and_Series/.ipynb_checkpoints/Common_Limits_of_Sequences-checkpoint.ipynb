{
 "cells": [
  {
   "cell_type": "markdown",
   "metadata": {},
   "source": [
    "# Limits of Common Sequences\n",
    "\n",
    "The following common sequences converge to the given limits:\n",
    "\n",
    "1) $\\lim_\\limits{n\\to\\infty} \\frac{\\ln(n)}{n} = 0$\n",
    "---\n",
    "2) $\\lim_\\limits{n\\to\\infty} b^{\\frac{1}{n}} = 1 \\quad \\text{ for } b > 0$\n",
    "---\n",
    "3) $\\lim_\\limits{n\\to\\infty} \\left(1 + \\frac{x}{n} \\right)^n = e^x \\quad \\text{ (for any x)}$\n",
    "---\n",
    "4) $\\lim_\\limits{n\\to\\infty} \\sqrt[n]{n} = 1$ (i.e. $(n)^{\\frac{1}{n}}\\to 1 \\text{ as } n\\to\\infty$)\n",
    "---\n",
    "5) $\\lim_\\limits{n\\to\\infty} a^n = 0 \\quad \\text{ if } |a| < 1$\n",
    "---\n",
    "6) $\\lim_\\limits{n\\to\\infty} \\frac{x^n}{n!} = 0$ (i.e. Growth of $n! > x^n$) \n",
    "---"
   ]
  },
  {
   "cell_type": "code",
   "execution_count": null,
   "metadata": {
    "collapsed": true
   },
   "outputs": [],
   "source": []
  }
 ],
 "metadata": {
  "kernelspec": {
   "display_name": "Python 2",
   "language": "python",
   "name": "python2"
  },
  "language_info": {
   "codemirror_mode": {
    "name": "ipython",
    "version": 2
   },
   "file_extension": ".py",
   "mimetype": "text/x-python",
   "name": "python",
   "nbconvert_exporter": "python",
   "pygments_lexer": "ipython2",
   "version": "2.7.10"
  }
 },
 "nbformat": 4,
 "nbformat_minor": 0
}
