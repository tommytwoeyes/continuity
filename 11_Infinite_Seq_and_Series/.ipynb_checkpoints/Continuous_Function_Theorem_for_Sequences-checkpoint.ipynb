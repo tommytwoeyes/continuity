{
 "cells": [
  {
   "cell_type": "markdown",
   "metadata": {},
   "source": [
    "# Continuous Function Theorem for Sequences\n",
    "\n",
    "## Usefulness\n",
    "Because this theorem allows you to push a limit inside of a function, it enables you to deconstruct some seemingly complex, ugly expressions into simpler components of limits and functions which are more easily understood and evaluated.\n",
    "\n",
    "> #### Theorem\n",
    ">\n",
    "> Let $\\{a_n\\}$ be a sequence of real numbers. \n",
    "> \n",
    "> If $a_n \\to L$ and $f$ is a function that is continuous at $L$\n",
    "> and _defined at all $a_n$_, then:\n",
    ">\n",
    "> $$f(a_n) \\to f(L)$$\n",
    "> \n",
    "\n",
    "___\n",
    "\n",
    "## Example (1)\n",
    "\n",
    "<center><h4>Show that $\\sqrt{\\frac{n+1}{n}} \\to 1$</h4></center>\n",
    "\n",
    "#### Solution\n",
    "> \n",
    "> We know that $\\frac{n+1}{n} \\to 1$ (from a previous example not included\n",
    "> in this notebook).\n",
    "> \n",
    "> Taking $f(x) = \\sqrt{x}$ and $L = 1$ in the Continuous Function Theorem for Sequences gives:\n",
    "> \n",
    "> $$\\sqrt{ \\frac{n+1}{n} } \\to \\sqrt{1} = 1$$\n",
    "> \n",
    "\n",
    "---\n",
    "\n",
    "## Example (2)\n",
    "\n",
    "<center><h4>Find $\\lim_\\limits{n\\to\\infty} \\sin\\left( \\frac{\\pi}{n} \\right)$</h4></center>\n",
    "\n",
    "#### Solution\n",
    "> \n",
    "> Because the _sine_ function is continuous everywhere, the Continuous Function Theorem for Sequences allows you to write:\n",
    "> \n",
    "> $$\\lim_{n \\to \\infty} \\sin\\left( \\frac{\\pi}{n} \\right) = \\sin\\left( \\lim_{n \\to \\infty} \\frac{\\pi}{n} \\right) = \\sin(0) = 0$$\n",
    "> "
   ]
  },
  {
   "cell_type": "code",
   "execution_count": null,
   "metadata": {
    "collapsed": true
   },
   "outputs": [],
   "source": []
  }
 ],
 "metadata": {
  "kernelspec": {
   "display_name": "Python 2",
   "language": "python",
   "name": "python2"
  },
  "language_info": {
   "codemirror_mode": {
    "name": "ipython",
    "version": 2
   },
   "file_extension": ".py",
   "mimetype": "text/x-python",
   "name": "python",
   "nbconvert_exporter": "python",
   "pygments_lexer": "ipython2",
   "version": "2.7.10"
  }
 },
 "nbformat": 4,
 "nbformat_minor": 0
}
