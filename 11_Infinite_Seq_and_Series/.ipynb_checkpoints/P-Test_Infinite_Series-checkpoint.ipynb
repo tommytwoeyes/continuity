{
 "cells": [
  {
   "cell_type": "markdown",
   "metadata": {},
   "source": [
    "# The __p__-Test for Infinite Series\n",
    "\n",
    "The __p__-test for series is virtually the same as the __p__-test for<br/>improper integrals _with a problem spot at $\\infty$._\n",
    "\n",
    "<table>\n",
    "<tr>\n",
    "    <td style=\"vertical-align: middle;\">$$\\sum_{n=a}^{\\infty} \\frac{1}{n^p}$$</td>\n",
    "    <td>\n",
    "        <blockquote>\n",
    "            $p > 1$ <strong>Converges</strong><br/>\n",
    "            $p \\le 1$ <strong>Diverges</strong>\n",
    "        </blockquote>\n",
    "    </td>\n",
    "</tr>\n",
    "</table>"
   ]
  },
  {
   "cell_type": "markdown",
   "metadata": {},
   "source": []
  }
 ],
 "metadata": {
  "kernelspec": {
   "display_name": "Python 2",
   "language": "python",
   "name": "python2"
  },
  "language_info": {
   "codemirror_mode": {
    "name": "ipython",
    "version": 2
   },
   "file_extension": ".py",
   "mimetype": "text/x-python",
   "name": "python",
   "nbconvert_exporter": "python",
   "pygments_lexer": "ipython2",
   "version": "2.7.10"
  }
 },
 "nbformat": 4,
 "nbformat_minor": 0
}
