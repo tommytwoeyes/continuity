{
 "cells": [
  {
   "cell_type": "markdown",
   "metadata": {},
   "source": [
    "# Telescoping Series Example\n",
    "\n",
    "<p class='lead italics'>Convergent or divergent?</p>\n",
    "\n",
    "<p class='lead'>\n",
    "In this example, you'll find the limit of a <strong><abbr title=\"A telescoping series is composed of partial sums which eventually only have a fixed number of terms after cancellation (or many, many more upon expansion&mdash;thus the impetus for the name, 'telescoping'). This technique of simplifying the series is also known as the method of differences.\">telescoping</abbr></strong> series (if the series is convergent), using <strong>partial fraction decomposition</strong> to find the primary pattern in the series and the <strong>sequence of partial sums</strong> to determine the series' limit.\n",
    "</p>"
   ]
  },
  {
   "cell_type": "markdown",
   "metadata": {
    "collapsed": true
   },
   "source": [
    "### Objective\n",
    "\n",
    "Find a pattern in the _partial sums_ which will (ideally) lead to a formula for the _sequence of partial sums,_ $S_k$.\n",
    "\n",
    "$$\\sum_{n=1}^{\\infty} \\frac{1}{n(n + 1)}$$"
   ]
  },
  {
   "cell_type": "markdown",
   "metadata": {},
   "source": [
    "---\n",
    "\n",
    "#### Step 1\n",
    "Find the _partial fraction decomposition._\n",
    "\n",
    "__A)__ Write the original function on the left side of a new equation, and on the right side, write each factor of the denominator in a new fraction. Put a new constant variable in the numerator of each new fraction to represent the unknown numerators&mdash;e.g. A, B, C (do not repeat variables using subscript; this can become confusing).\n",
    "\n",
    "$$\\frac{1}{n(n + 1)} = \\frac{A}{n} + \\frac{B}{n + 1}$$\n",
    "\n",
    "__B)__ Multiply both sides by all factors in the original fraction's denominator, cancelling like terms.\n",
    "\n",
    "$$n(n + 1) \\cdot \\left( \\frac{1}{n(n + 1)} \\right) = \\left( \\frac{A}{n} + \\frac{B}{n + 1} \\right) n(n + 1)$$\n",
    "\n",
    "__D)__ You should be left with just the products of the unknown numerators and the factors (on the right side) and just the original numerator (on the left side).\n",
    "\n",
    "$$1 = A \\left( n + 1 \\right) + B(n)$$\n",
    "\n",
    "__E)__ Now (switching terms on either side for a conventional arrangement), for each unknown quantity remaining on the right side, substitute a value which will remove the unknown by multiplication by zero.\n",
    "\n",
    "> Setting $n = -1$\n",
    "$$\n",
    "A\\left((-1) + 1\\right) + B(-1) = 1 \\\\\n",
    "A(0) + B(-1) = 1 \\\\\n",
    "-B = 1 \\\\\n",
    "B = -1\n",
    "$$\n",
    "\n",
    "> Setting $n = 0$\n",
    "$$\n",
    "A(0 + 1) + B(0) = 1 \\\\\n",
    "A(1) = 1 \\\\\n",
    "A = 1\n",
    "$$\n",
    "\n",
    "__F)__ Now that you've found the unknown values for the _partial fractions,_ all that's left is to rewrite the _partial fraction decomposition_ using the values you found:\n",
    "\n",
    "$$\\frac{1}{n(n + 1)} = \\frac{1}{n} - \\frac{1}{n + 1}$$"
   ]
  },
  {
   "cell_type": "markdown",
   "metadata": {},
   "source": [
    "___\n",
    "\n",
    "#### Step 2\n",
    "Now, with your partially decomposed fractions in hand (or in _whatever_ you typically carry decomposed things)  ;), you can find the limit of the __sequence of partial sums:__\n",
    "\n",
    "__A)__ First, build the sequence by computing the first few terms.\n",
    "\n",
    "$$S_k = \\sum_{n=1}^{k} \\frac{1}{n(n + 1)} = \\sum_{n=1}^{k} \\left( \\frac{1}{n} - \\frac{1}{n + 1} \\right)$$\n",
    "\n",
    "$$S_k= \\left( \\frac{1}{1} - \\frac{1}{1 + 1} \\right) + \\left( \\frac{1}{2} - \\frac{1}{2 + 1} \\right) + \\left( \\frac{1}{3} - \\frac{1}{3 + 1} \\right) + ... + \\left( \\frac{1}{n} - \\frac{1}{n + 1} \\right)$$\n",
    "<br/>\n",
    "\n",
    "__B)__ Now, a pattern should emerging for you:\n",
    "\n",
    "$$S_k = \\left( \\frac{1}{1} - \\frac{1}{2} \\right) + \\left( \\frac{1}{2} - \\frac{1}{3} \\right) + \\left( \\frac{1}{3} - \\frac{1}{4} \\right) + \\left( \\frac{1}{4} - \\frac{1}{5} \\right) + ... + \\left( \\frac{1}{n} - \\frac{1}{n + 1} \\right)$$\n",
    "\n",
    "> Aside from the first and the $n\\text{th}$ term, all the terms on the inside cancel. \n",
    ">\n",
    "> This is why such terms are called telescoping&mdash;they sort of _slide_ out when they're expanded, but once you cancel every term you can, you're left with a very short series.\n",
    ">\n",
    "> After all those inside terms cancelled, you're left with the simplified _sequence of partial sums:_\n",
    "\n",
    "$$S_k = \\left( 1 - \\frac{1}{k + 1} \\right)$$\n",
    "<br/>\n",
    "\n",
    "__C)__ Finally, determine whether the series converges and, if it does, find the sum by taking the limit of the _sequence of partial sums,_ $S_k$:\n",
    "\n",
    "$$\\sum_{n=1}^{\\infty} \\left( \\frac{1}{n(n + 1)} \\right) = \\lim_{n\\to \\infty} \\{S_k\\} = \\lim_{n\\to \\infty} \\left( 1 - \\frac{1}{n + 1} \\right)$$\n",
    "\n",
    "$$\\sum_{n=1}^{\\infty} = \\left( 1 - \\frac{1}{\\infty + 1} \\right) = \\left( 1 - \\frac{1}{\\infty} \\right) = (1)$$\n",
    "\n",
    "> So, you see&mdash;as $n \\to \\infty$, $S_k \\to 1$, and the series converges.\n",
    "\n",
    "$$\\sum_{n=1}^{\\infty} \\frac{1}{n(n + 1)} = 1$$"
   ]
  },
  {
   "cell_type": "code",
   "execution_count": null,
   "metadata": {
    "collapsed": true
   },
   "outputs": [],
   "source": []
  }
 ],
 "metadata": {
  "kernelspec": {
   "display_name": "Python 2",
   "language": "python",
   "name": "python2"
  },
  "language_info": {
   "codemirror_mode": {
    "name": "ipython",
    "version": 2
   },
   "file_extension": ".py",
   "mimetype": "text/x-python",
   "name": "python",
   "nbconvert_exporter": "python",
   "pygments_lexer": "ipython2",
   "version": "2.7.10"
  }
 },
 "nbformat": 4,
 "nbformat_minor": 0
}
