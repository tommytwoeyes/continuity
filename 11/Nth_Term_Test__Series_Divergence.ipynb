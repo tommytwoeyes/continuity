{
 "cells": [
  {
   "cell_type": "markdown",
   "metadata": {},
   "source": [
    "# Nth Term Test for Divergent Series\n",
    "\n",
    "One reason a series may fail to converge is that its terms don't become small.\n",
    "\n",
    "### Example\n",
    "This series (below) diverges because the partial sums eventually outgrow every pre-assigned number. Each term is greater than $1$, so the sum of $n$ terms is greater than $n$.\n",
    "\n",
    "$$\\sum_{n=1}^{\\infty} \\frac{n+1}{n} = \\frac{2}{1} + \\frac{3}{2} + \\frac{4}{3} + ... + \\frac{n+1}{n} + ...$$"
   ]
  },
  {
   "cell_type": "code",
   "execution_count": null,
   "metadata": {
    "collapsed": true
   },
   "outputs": [],
   "source": []
  }
 ],
 "metadata": {
  "kernelspec": {
   "display_name": "Python 2",
   "language": "python",
   "name": "python2"
  },
  "language_info": {
   "codemirror_mode": {
    "name": "ipython",
    "version": 2
   },
   "file_extension": ".py",
   "mimetype": "text/x-python",
   "name": "python",
   "nbconvert_exporter": "python",
   "pygments_lexer": "ipython2",
   "version": "2.7.10"
  }
 },
 "nbformat": 4,
 "nbformat_minor": 0
}
