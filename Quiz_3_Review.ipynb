{
 "cells": [
  {
   "cell_type": "markdown",
   "metadata": {},
   "source": [
    "# Quiz 3 Review\n",
    "\n",
    "### Problem 1 \n",
    "3 points\n",
    "\n",
    "$$\\int_2^\\infty e^{-3x} dx$$\n",
    "\n",
    "$$= \\lim_{t\\to \\infty} \\int_2^t e^{-3x} dx$$\n",
    "\n",
    "$$= \\lim_{t\\to \\infty} \\left[ \\frac{e^{-3x}}{-3} \\right]_{2}^{t}$$\n",
    "\n",
    "$$= -\\frac{1}{3} \\lim_{t\\to \\infty} \\left( e^{-3t} - e^{-6}  \\right)$$\n",
    "\n",
    "$$= -\\frac{1}{3} \\left( 0 - \\frac{1}{e^6} \\right)$$\n",
    "\n",
    "$$\\text{Solution }= \\frac{1}{3e^6}$$\n",
    "\n",
    "__Converges__"
   ]
  },
  {
   "cell_type": "markdown",
   "metadata": {},
   "source": [
    "### Problem 2\n",
    "3 points\n",
    "\n",
    "$$\\int_0^1 \\frac{3}{x^-5} dx$$\n",
    "\n",
    "$$= \\lim_{t\\to 0^{+}} \\int_t^1 3x^5 dx$$\n",
    "\n",
    "$$= \\lim_{t\\to 0^{+}} \\left[ \\frac{3x^{-4}}{-4} \\right]_{t}^{1}$$\n",
    "\n",
    "$$= \\lim_{t\\to 0^{+}} \\left( \\frac{-3}{4} + \\frac{3}{4t^4} \\right)$$\n",
    "\n",
    "$$\\text{Solution }= \\infty$$\n",
    "\n",
    "__Diverges__"
   ]
  },
  {
   "cell_type": "code",
   "execution_count": 3,
   "metadata": {
    "collapsed": false
   },
   "outputs": [
    {
     "data": {
      "image/png": "[encoded data removed]",
      "text/plain": [
       "<matplotlib.figure.Figure at 0x1085faad0>"
      ]
     },
     "metadata": {},
     "output_type": "display_data"
    }
   ],
   "source": [
    "%matplotlib inline\n",
    "\n",
    "import numpy as np\n",
    "import sympy as sp\n",
    "from matplotlib import pyplot as plt\n",
    "\n",
    "# f(x) = 1/x --> Diverges\n",
    "f = lambda x: 3/(x**5)\n",
    "\n",
    "sp.mpmath.plot([f], xlim=[0,5], ylim=[0,5], points=500)"
   ]
  },
  {
   "cell_type": "markdown",
   "metadata": {},
   "source": [
    "### Problem 3\n",
    "4 points\n",
    "\n",
    "$$\\{a_n\\} = \\frac{n^4}{5n^4+3}$$\n",
    "\n",
    "$$= \\lim_{n\\to \\infty} \\frac{n^4}{5n^4+3}$$\n",
    "\n",
    "$$= \\lim_{n\\to \\infty} \\frac{\\frac{n^4}{n^4}}{5\\left(\\frac{n^4}{n^4}\\right) + 3\\left(\\frac{1}{n^4}\\right)}$$\n",
    "\n",
    "$$= \\lim_{n\\to \\infty} \\frac{1}{5 + 3(0)}$$\n",
    "\n",
    "$$= \\frac{1}{5}$$\n",
    "\n",
    "__Converges__"
   ]
  },
  {
   "cell_type": "code",
   "execution_count": null,
   "metadata": {
    "collapsed": true
   },
   "outputs": [],
   "source": []
  }
 ],
 "metadata": {
  "kernelspec": {
   "display_name": "Python 2",
   "language": "python",
   "name": "python2"
  },
  "language_info": {
   "codemirror_mode": {
    "name": "ipython",
    "version": 2
   },
   "file_extension": ".py",
   "mimetype": "text/x-python",
   "name": "python",
   "nbconvert_exporter": "python",
   "pygments_lexer": "ipython2",
   "version": "2.7.10"
  }
 },
 "nbformat": 4,
 "nbformat_minor": 0
}
