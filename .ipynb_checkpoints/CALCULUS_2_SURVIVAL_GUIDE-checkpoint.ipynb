{
 "cells": [
  {
   "cell_type": "markdown",
   "metadata": {},
   "source": [
    "# Calculus II Survival Guide\n",
    "\n",
    "### How to Study\n",
    "Calculus textbooks are not meant to be read like a novel, nor even like a history or biology text. Your calculus text should be read in a series of passes. On the first pass through a section, which should be done __before the lecturer covers it,__ skim it lightly, reading definitions and theorems, and trying to work _some_ of the examples. But, you won't fully understand much of what you've read until you start working on the exercises. You should spend about __80% of your study time working problems.__ As you get stuck, you go back, rereading the section, studying the examples and derivations, on a \"need-to-know\" basis.\n",
    "\n",
    "### How much to study\n",
    "Calculus is a hard subject. It is likely that it will be your most challenging course this semester. You should be spending at least 20 hours a week studying calculus&mdash;that's 4 hours a day, 5 days a week. Make any necessary adjustments in your academic or work schedules before the semester begins.\n",
    "\n",
    "### Homework\n",
    "__Work lots and lots of problems.__ If you are done with the current section, go back and work review problems. You are not done with a problem just because you got the right answer. You are only done when you understand _why the methods you used worked._ If all you are doing is blindly applying formulas and mimicking examples, get extra help. The problems should make sense to you.\n",
    "\n",
    "### Studying for Exams\n",
    "Although you should be constantly preparing for your exams throughout the semester&mdash;by setting aside time to review topics covered previously&mdash;you should __begin preparing &amp; studying for individual exams at least 1 week prior to the exam date.__\n",
    "\n",
    "If you were an athlete preparing for track meet, and you slacked off during the weeks before the meet and then stayed up running the whole night before your meet, you'd lose. Yet this is just how many students prepare for exams. The right way to study for a test is to do your work at a steady pace throughout the semester. The point is, that while there are a few facts and formulas you'll need to remember for a test, the real way to do well is to think well. You want your brain to be in top shape.\n",
    "\n",
    "### Infinite Series\n",
    "At first, Calculus II is a lot like Calculus I. The style of thinking is the same. __But then comes the material on infinite series.__ Many students hit a brick wall here. Here's how to survive this period and eventually excel at working with __infinite series:__\n",
    "\n",
    "* For the first couple of weeks of the infinite series material, be prepared to __increase your study time.__\n",
    "* You will also need to __change your study style.__ Spend more time reading the theorems and understanding their proofs. This stuff is more theoretical than what you are used too. \n",
    "* At first your intuition will fail you. Once you __dig into the theory__ and __get lots of practice__ your intuition will adjust. You will learn to think on a higher plane.\n",
    "\n",
    "---\n",
    "\n",
    "<cite>Credit for this <a href='http://galileo.math.siu.edu/mikesullivan/Courses/250/S05/cal2guide.html' target='_blank'>material</a> is given to Prof. Mike Sullivan at Southern Illinois University.</cite>"
   ]
  },
  {
   "cell_type": "code",
   "execution_count": null,
   "metadata": {
    "collapsed": true
   },
   "outputs": [],
   "source": []
  }
 ],
 "metadata": {
  "kernelspec": {
   "display_name": "Python 2",
   "language": "python",
   "name": "python2"
  },
  "language_info": {
   "codemirror_mode": {
    "name": "ipython",
    "version": 2
   },
   "file_extension": ".py",
   "mimetype": "text/x-python",
   "name": "python",
   "nbconvert_exporter": "python",
   "pygments_lexer": "ipython2",
   "version": "2.7.10"
  }
 },
 "nbformat": 4,
 "nbformat_minor": 0
}
